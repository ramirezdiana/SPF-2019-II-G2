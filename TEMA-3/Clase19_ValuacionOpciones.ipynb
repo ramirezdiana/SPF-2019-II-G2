{
 "cells": [
  {
   "cell_type": "markdown",
   "metadata": {},
   "source": [
    "<img style=\"float: right; margin: 0px 0px 15px 15px;\" src=\"https://encrypted-tbn0.gstatic.com/images?q=tbn:ANd9GcSQt6eQo8JPYzYO4p6WmxLtccdtJ4X8WR6GzVVKbsMjyGvUDEn1mg\" width=\"300px\" height=\"100px\" />\n",
    "\n",
    "# Trabajando con opciones"
   ]
  },
  {
   "cell_type": "markdown",
   "metadata": {},
   "source": [
    "Una opción puede negociarse en el mercado secundario por lo que es importante determinar su valor $V_t$ para cada tiempo $t\\in [0, T]$. La ganancia que obtiene quién adquiere la opción se llama función de pago o \"payoff\" y claramente depende del valor del subyacente. \n",
    "\n",
    "Hay una gran variedad de opciones en el mercado y éstas se clasiflcan según su función de pago y la forma en que pueden ejercerse.  Las opciones que tienen como función de pago a\n",
    "$$ P(S(t),t)=max\\{S(T)-K,0\\} \\rightarrow \\text{En el caso de Call}$$ \n",
    "$$ P(S(t),t)=max\\{K-S(T),0\\} \\rightarrow \\text{En el caso de Put}$$ \n",
    "se llaman opciones **Vainilla**, con $h:[0,\\infty) \\to [0,\\infty)$.\n",
    "\n",
    "La opción se llama **europea** si puede ejercerse sólo en la fecha de vencimiento.\n",
    "\n",
    "Se dice que una opción es **americana** si puede ejercerse en cualquier momento antes o en la fecha de vencimiento.\n",
    "\n",
    "Una opción compleja popular son las llamadas **opciones asiáticas** cuyos pagos dependen de todas las trayectorias del precio de los activos subyacentes. Las opciones cuyos pagos dependen de las trayectorias de los precios de los activos subyacentes se denominan opciones dependientes de la ruta.\n",
    "\n",
    "Principalmente, se puede resumir que las dos razones con más peso de importancia para utilizar opciones son el **aseguramiento** y la **especulación**.\n",
    "\n",
    "## Opciones Plan Vainilla: opción de compra y opción de venta europea\n",
    "\n",
    "Una opción vainilla o estándar es una opción normal de compra o venta que no tiene características especiales o inusuales. Puede ser para tamaños y vencimientos estandarizados, y negociarse en un intercambio.\n",
    "En comparación con otras estructuras de opciones, las opciones de vanilla no son sofisticadas o complicadas.\n"
   ]
  },
  {
   "cell_type": "markdown",
   "metadata": {},
   "source": [
    "## 1. ¿Cómo descargar datos de opciones?"
   ]
  },
  {
   "cell_type": "code",
   "execution_count": 1,
   "metadata": {},
   "outputs": [],
   "source": [
    "#importar los paquetes que se van a usar\n",
    "import pandas as pd\n",
    "import pandas_datareader.data as web\n",
    "import numpy as np\n",
    "import datetime\n",
    "import matplotlib.pyplot as plt\n",
    "import scipy.stats as st\n",
    "import seaborn as sns\n",
    "from datetime import date\n",
    "\n",
    "%matplotlib inline\n",
    "#algunas opciones para Pandas\n",
    "pd.set_option('display.notebook_repr_html', True)\n",
    "pd.set_option('display.max_columns', 6)\n",
    "pd.set_option('display.max_rows', 10)\n",
    "pd.set_option('display.width', 78)\n",
    "pd.set_option('precision', 3)"
   ]
  },
  {
   "cell_type": "markdown",
   "metadata": {},
   "source": [
    "Usando el paquete `pandas_datareader` también podemos descargar datos de opciones. Por ejemplo, descarguemos los datos de las opciones cuyo activo subyacente son las acciones de Apple"
   ]
  },
  {
   "cell_type": "code",
   "execution_count": 2,
   "metadata": {},
   "outputs": [
    {
     "data": {
      "text/html": [
       "<div>\n",
       "<style scoped>\n",
       "    .dataframe tbody tr th:only-of-type {\n",
       "        vertical-align: middle;\n",
       "    }\n",
       "\n",
       "    .dataframe tbody tr th {\n",
       "        vertical-align: top;\n",
       "    }\n",
       "\n",
       "    .dataframe thead th {\n",
       "        text-align: right;\n",
       "    }\n",
       "</style>\n",
       "<table border=\"1\" class=\"dataframe\">\n",
       "  <thead>\n",
       "    <tr style=\"text-align: right;\">\n",
       "      <th></th>\n",
       "      <th>Strike</th>\n",
       "      <th>Type</th>\n",
       "      <th>Symbol</th>\n",
       "      <th>...</th>\n",
       "      <th>Quote_Time</th>\n",
       "      <th>Last_Trade_Date</th>\n",
       "      <th>JSON</th>\n",
       "    </tr>\n",
       "    <tr>\n",
       "      <th>Expiry</th>\n",
       "      <th></th>\n",
       "      <th></th>\n",
       "      <th></th>\n",
       "      <th></th>\n",
       "      <th></th>\n",
       "      <th></th>\n",
       "      <th></th>\n",
       "    </tr>\n",
       "  </thead>\n",
       "  <tbody>\n",
       "    <tr>\n",
       "      <th>2020-01-17</th>\n",
       "      <td>50.0</td>\n",
       "      <td>call</td>\n",
       "      <td>AAPL200117C00050000</td>\n",
       "      <td>...</td>\n",
       "      <td>2019-11-27 21:00:01</td>\n",
       "      <td>2019-11-07 16:06:35</td>\n",
       "      <td>{'contractSymbol': 'AAPL200117C00050000', 'str...</td>\n",
       "    </tr>\n",
       "    <tr>\n",
       "      <th>2020-01-17</th>\n",
       "      <td>50.0</td>\n",
       "      <td>put</td>\n",
       "      <td>AAPL200117P00050000</td>\n",
       "      <td>...</td>\n",
       "      <td>2019-11-27 21:00:01</td>\n",
       "      <td>2019-11-08 14:34:24</td>\n",
       "      <td>{'contractSymbol': 'AAPL200117P00050000', 'str...</td>\n",
       "    </tr>\n",
       "    <tr>\n",
       "      <th>2020-01-17</th>\n",
       "      <td>55.0</td>\n",
       "      <td>call</td>\n",
       "      <td>AAPL200117C00055000</td>\n",
       "      <td>...</td>\n",
       "      <td>2019-11-27 21:00:01</td>\n",
       "      <td>2019-08-08 19:46:38</td>\n",
       "      <td>{'contractSymbol': 'AAPL200117C00055000', 'str...</td>\n",
       "    </tr>\n",
       "    <tr>\n",
       "      <th>2020-01-17</th>\n",
       "      <td>55.0</td>\n",
       "      <td>put</td>\n",
       "      <td>AAPL200117P00055000</td>\n",
       "      <td>...</td>\n",
       "      <td>2019-11-27 21:00:01</td>\n",
       "      <td>2019-09-30 14:16:34</td>\n",
       "      <td>{'contractSymbol': 'AAPL200117P00055000', 'str...</td>\n",
       "    </tr>\n",
       "    <tr>\n",
       "      <th>2020-01-17</th>\n",
       "      <td>60.0</td>\n",
       "      <td>call</td>\n",
       "      <td>AAPL200117C00060000</td>\n",
       "      <td>...</td>\n",
       "      <td>2019-11-27 21:00:01</td>\n",
       "      <td>2019-11-06 20:30:58</td>\n",
       "      <td>{'contractSymbol': 'AAPL200117C00060000', 'str...</td>\n",
       "    </tr>\n",
       "    <tr>\n",
       "      <th>...</th>\n",
       "      <td>...</td>\n",
       "      <td>...</td>\n",
       "      <td>...</td>\n",
       "      <td>...</td>\n",
       "      <td>...</td>\n",
       "      <td>...</td>\n",
       "      <td>...</td>\n",
       "    </tr>\n",
       "    <tr>\n",
       "      <th>2021-06-18</th>\n",
       "      <td>390.0</td>\n",
       "      <td>call</td>\n",
       "      <td>AAPL210618C00390000</td>\n",
       "      <td>...</td>\n",
       "      <td>2019-11-27 21:00:01</td>\n",
       "      <td>2019-11-27 20:11:37</td>\n",
       "      <td>{'contractSymbol': 'AAPL210618C00390000', 'str...</td>\n",
       "    </tr>\n",
       "    <tr>\n",
       "      <th>2021-09-17</th>\n",
       "      <td>390.0</td>\n",
       "      <td>call</td>\n",
       "      <td>AAPL210917C00390000</td>\n",
       "      <td>...</td>\n",
       "      <td>2019-11-27 21:00:01</td>\n",
       "      <td>2019-11-25 20:51:28</td>\n",
       "      <td>{'contractSymbol': 'AAPL210917C00390000', 'str...</td>\n",
       "    </tr>\n",
       "    <tr>\n",
       "      <th>2022-01-21</th>\n",
       "      <td>390.0</td>\n",
       "      <td>call</td>\n",
       "      <td>AAPL220121C00390000</td>\n",
       "      <td>...</td>\n",
       "      <td>2019-11-27 21:00:01</td>\n",
       "      <td>2019-11-27 20:53:56</td>\n",
       "      <td>{'contractSymbol': 'AAPL220121C00390000', 'str...</td>\n",
       "    </tr>\n",
       "    <tr>\n",
       "      <th>2020-02-21</th>\n",
       "      <td>395.0</td>\n",
       "      <td>call</td>\n",
       "      <td>AAPL200221C00395000</td>\n",
       "      <td>...</td>\n",
       "      <td>2019-11-27 21:00:01</td>\n",
       "      <td>2019-11-21 14:33:28</td>\n",
       "      <td>{'contractSymbol': 'AAPL200221C00395000', 'str...</td>\n",
       "    </tr>\n",
       "    <tr>\n",
       "      <th>2020-02-21</th>\n",
       "      <td>400.0</td>\n",
       "      <td>call</td>\n",
       "      <td>AAPL200221C00400000</td>\n",
       "      <td>...</td>\n",
       "      <td>2019-11-27 21:00:01</td>\n",
       "      <td>2019-11-21 14:31:32</td>\n",
       "      <td>{'contractSymbol': 'AAPL200221C00400000', 'str...</td>\n",
       "    </tr>\n",
       "  </tbody>\n",
       "</table>\n",
       "<p>1485 rows × 18 columns</p>\n",
       "</div>"
      ],
      "text/plain": [
       "            Strike  Type               Symbol  ...          Quote_Time  \\\n",
       "Expiry                                         ...                       \n",
       "2020-01-17    50.0  call  AAPL200117C00050000  ... 2019-11-27 21:00:01   \n",
       "2020-01-17    50.0   put  AAPL200117P00050000  ... 2019-11-27 21:00:01   \n",
       "2020-01-17    55.0  call  AAPL200117C00055000  ... 2019-11-27 21:00:01   \n",
       "2020-01-17    55.0   put  AAPL200117P00055000  ... 2019-11-27 21:00:01   \n",
       "2020-01-17    60.0  call  AAPL200117C00060000  ... 2019-11-27 21:00:01   \n",
       "...            ...   ...                  ...  ...                 ...   \n",
       "2021-06-18   390.0  call  AAPL210618C00390000  ... 2019-11-27 21:00:01   \n",
       "2021-09-17   390.0  call  AAPL210917C00390000  ... 2019-11-27 21:00:01   \n",
       "2022-01-21   390.0  call  AAPL220121C00390000  ... 2019-11-27 21:00:01   \n",
       "2020-02-21   395.0  call  AAPL200221C00395000  ... 2019-11-27 21:00:01   \n",
       "2020-02-21   400.0  call  AAPL200221C00400000  ... 2019-11-27 21:00:01   \n",
       "\n",
       "               Last_Trade_Date  \\\n",
       "Expiry                           \n",
       "2020-01-17 2019-11-07 16:06:35   \n",
       "2020-01-17 2019-11-08 14:34:24   \n",
       "2020-01-17 2019-08-08 19:46:38   \n",
       "2020-01-17 2019-09-30 14:16:34   \n",
       "2020-01-17 2019-11-06 20:30:58   \n",
       "...                        ...   \n",
       "2021-06-18 2019-11-27 20:11:37   \n",
       "2021-09-17 2019-11-25 20:51:28   \n",
       "2022-01-21 2019-11-27 20:53:56   \n",
       "2020-02-21 2019-11-21 14:33:28   \n",
       "2020-02-21 2019-11-21 14:31:32   \n",
       "\n",
       "                                                         JSON  \n",
       "Expiry                                                         \n",
       "2020-01-17  {'contractSymbol': 'AAPL200117C00050000', 'str...  \n",
       "2020-01-17  {'contractSymbol': 'AAPL200117P00050000', 'str...  \n",
       "2020-01-17  {'contractSymbol': 'AAPL200117C00055000', 'str...  \n",
       "2020-01-17  {'contractSymbol': 'AAPL200117P00055000', 'str...  \n",
       "2020-01-17  {'contractSymbol': 'AAPL200117C00060000', 'str...  \n",
       "...                                                       ...  \n",
       "2021-06-18  {'contractSymbol': 'AAPL210618C00390000', 'str...  \n",
       "2021-09-17  {'contractSymbol': 'AAPL210917C00390000', 'str...  \n",
       "2022-01-21  {'contractSymbol': 'AAPL220121C00390000', 'str...  \n",
       "2020-02-21  {'contractSymbol': 'AAPL200221C00395000', 'str...  \n",
       "2020-02-21  {'contractSymbol': 'AAPL200221C00400000', 'str...  \n",
       "\n",
       "[1485 rows x 18 columns]"
      ]
     },
     "execution_count": 2,
     "metadata": {},
     "output_type": "execute_result"
    }
   ],
   "source": [
    "aapl = web.YahooOptions('AAPL')\n",
    "aapl_opt = aapl.get_all_data().reset_index()\n",
    "aapl_opt.set_index('Expiry')\n",
    "# aapl"
   ]
  },
  {
   "cell_type": "code",
   "execution_count": 3,
   "metadata": {
    "scrolled": true
   },
   "outputs": [
    {
     "data": {
      "text/plain": [
       "{'contractSymbol': 'AAPL200117C00050000',\n",
       " 'strike': 50.0,\n",
       " 'currency': 'USD',\n",
       " 'lastPrice': 209.41,\n",
       " 'change': 0.0,\n",
       " 'percentChange': 0.0,\n",
       " 'volume': 3,\n",
       " 'openInterest': 3,\n",
       " 'bid': 217.3,\n",
       " 'ask': 218.65,\n",
       " 'contractSize': 'REGULAR',\n",
       " 'expiration': 1579219200,\n",
       " 'lastTradeDate': 1573142795,\n",
       " 'impliedVolatility': 1.7578137109375,\n",
       " 'inTheMoney': True}"
      ]
     },
     "execution_count": 3,
     "metadata": {},
     "output_type": "execute_result"
    }
   ],
   "source": [
    "aapl_opt.loc[0]\n",
    "aapl_opt.loc[0, 'JSON']"
   ]
  },
  {
   "cell_type": "markdown",
   "metadata": {},
   "source": [
    "### Conceptos claves\n",
    "- El precio de la oferta ('bid') se refiere al precio más alto que un comprador pagará por un activo.\n",
    "- El precio de venta ('ask') se refiere al precio más bajo que un vendedor aceptará por un activo.\n",
    "- La diferencia entre estos dos precios se conoce como 'spread'; cuanto menor es el spread, mayor es la liquidez de la garantía dada.\n",
    "- Liquidez: facilidad de convertir cierta opción en efectivo.\n",
    "- La volatilidad implícita es el pronóstico del mercado de un probable movimiento en el precio de un valor.\n",
    "- La volatilidad implícita aumenta en los mercados bajistas y disminuye cuando el mercado es alcista.\n",
    "- El último precio ('lastprice') representa el precio al que ocurrió la última operación, de una opción dada."
   ]
  },
  {
   "cell_type": "markdown",
   "metadata": {},
   "source": [
    "Una vez tenemos la información, podemos consultar de qué tipo son las opciones"
   ]
  },
  {
   "cell_type": "code",
   "execution_count": 4,
   "metadata": {},
   "outputs": [
    {
     "data": {
      "text/plain": [
       "0       call\n",
       "1        put\n",
       "2       call\n",
       "3        put\n",
       "4       call\n",
       "        ... \n",
       "1480    call\n",
       "1481    call\n",
       "1482    call\n",
       "1483    call\n",
       "1484    call\n",
       "Name: Type, Length: 1485, dtype: object"
      ]
     },
     "execution_count": 4,
     "metadata": {},
     "output_type": "execute_result"
    }
   ],
   "source": [
    "aapl_opt.loc[:, 'Type']"
   ]
  },
  {
   "cell_type": "markdown",
   "metadata": {},
   "source": [
    "o en que fecha expiran"
   ]
  },
  {
   "cell_type": "code",
   "execution_count": 5,
   "metadata": {
    "scrolled": true
   },
   "outputs": [
    {
     "data": {
      "text/plain": [
       "0      2020-01-17\n",
       "1      2020-01-17\n",
       "2      2020-01-17\n",
       "3      2020-01-17\n",
       "4      2020-01-17\n",
       "          ...    \n",
       "1480   2021-06-18\n",
       "1481   2021-09-17\n",
       "1482   2022-01-21\n",
       "1483   2020-02-21\n",
       "1484   2020-02-21\n",
       "Name: Expiry, Length: 1485, dtype: datetime64[ns]"
      ]
     },
     "execution_count": 5,
     "metadata": {},
     "output_type": "execute_result"
    }
   ],
   "source": [
    "pd.set_option('display.max_rows', 10)\n",
    "aapl_opt.loc[:, 'Expiry']"
   ]
  },
  {
   "cell_type": "markdown",
   "metadata": {},
   "source": [
    "Por otra parte, podríamos querer consultar todas las opciones de compra (call) que expiran en cierta fecha (2020-06-19)"
   ]
  },
  {
   "cell_type": "code",
   "execution_count": 6,
   "metadata": {
    "scrolled": false
   },
   "outputs": [
    {
     "data": {
      "text/html": [
       "<div>\n",
       "<style scoped>\n",
       "    .dataframe tbody tr th:only-of-type {\n",
       "        vertical-align: middle;\n",
       "    }\n",
       "\n",
       "    .dataframe tbody tr th {\n",
       "        vertical-align: top;\n",
       "    }\n",
       "\n",
       "    .dataframe thead th {\n",
       "        text-align: right;\n",
       "    }\n",
       "</style>\n",
       "<table border=\"1\" class=\"dataframe\">\n",
       "  <thead>\n",
       "    <tr style=\"text-align: right;\">\n",
       "      <th></th>\n",
       "      <th>Strike</th>\n",
       "      <th>Expiry</th>\n",
       "      <th>Type</th>\n",
       "      <th>...</th>\n",
       "      <th>Quote_Time</th>\n",
       "      <th>Last_Trade_Date</th>\n",
       "      <th>JSON</th>\n",
       "    </tr>\n",
       "  </thead>\n",
       "  <tbody>\n",
       "    <tr>\n",
       "      <th>12</th>\n",
       "      <td>75.0</td>\n",
       "      <td>2020-06-19</td>\n",
       "      <td>call</td>\n",
       "      <td>...</td>\n",
       "      <td>2019-11-27 21:00:01</td>\n",
       "      <td>2019-11-06 20:39:24</td>\n",
       "      <td>{'contractSymbol': 'AAPL200619C00075000', 'str...</td>\n",
       "    </tr>\n",
       "    <tr>\n",
       "      <th>20</th>\n",
       "      <td>80.0</td>\n",
       "      <td>2020-06-19</td>\n",
       "      <td>call</td>\n",
       "      <td>...</td>\n",
       "      <td>2019-11-27 21:00:01</td>\n",
       "      <td>2019-11-07 15:17:08</td>\n",
       "      <td>{'contractSymbol': 'AAPL200619C00080000', 'str...</td>\n",
       "    </tr>\n",
       "    <tr>\n",
       "      <th>28</th>\n",
       "      <td>85.0</td>\n",
       "      <td>2020-06-19</td>\n",
       "      <td>call</td>\n",
       "      <td>...</td>\n",
       "      <td>2019-11-27 21:00:01</td>\n",
       "      <td>2019-11-06 19:55:37</td>\n",
       "      <td>{'contractSymbol': 'AAPL200619C00085000', 'str...</td>\n",
       "    </tr>\n",
       "    <tr>\n",
       "      <th>36</th>\n",
       "      <td>90.0</td>\n",
       "      <td>2020-06-19</td>\n",
       "      <td>call</td>\n",
       "      <td>...</td>\n",
       "      <td>2019-11-27 21:00:01</td>\n",
       "      <td>2019-11-12 16:31:00</td>\n",
       "      <td>{'contractSymbol': 'AAPL200619C00090000', 'str...</td>\n",
       "    </tr>\n",
       "    <tr>\n",
       "      <th>44</th>\n",
       "      <td>95.0</td>\n",
       "      <td>2020-06-19</td>\n",
       "      <td>call</td>\n",
       "      <td>...</td>\n",
       "      <td>2019-11-27 21:00:01</td>\n",
       "      <td>2019-11-06 20:09:51</td>\n",
       "      <td>{'contractSymbol': 'AAPL200619C00095000', 'str...</td>\n",
       "    </tr>\n",
       "    <tr>\n",
       "      <th>...</th>\n",
       "      <td>...</td>\n",
       "      <td>...</td>\n",
       "      <td>...</td>\n",
       "      <td>...</td>\n",
       "      <td>...</td>\n",
       "      <td>...</td>\n",
       "      <td>...</td>\n",
       "    </tr>\n",
       "    <tr>\n",
       "      <th>1331</th>\n",
       "      <td>310.0</td>\n",
       "      <td>2020-06-19</td>\n",
       "      <td>call</td>\n",
       "      <td>...</td>\n",
       "      <td>2019-11-27 21:00:01</td>\n",
       "      <td>2019-11-27 20:54:48</td>\n",
       "      <td>{'contractSymbol': 'AAPL200619C00310000', 'str...</td>\n",
       "    </tr>\n",
       "    <tr>\n",
       "      <th>1368</th>\n",
       "      <td>320.0</td>\n",
       "      <td>2020-06-19</td>\n",
       "      <td>call</td>\n",
       "      <td>...</td>\n",
       "      <td>2019-11-27 21:00:01</td>\n",
       "      <td>2019-11-27 20:55:57</td>\n",
       "      <td>{'contractSymbol': 'AAPL200619C00320000', 'str...</td>\n",
       "    </tr>\n",
       "    <tr>\n",
       "      <th>1404</th>\n",
       "      <td>330.0</td>\n",
       "      <td>2020-06-19</td>\n",
       "      <td>call</td>\n",
       "      <td>...</td>\n",
       "      <td>2019-11-27 21:00:01</td>\n",
       "      <td>2019-11-27 20:41:49</td>\n",
       "      <td>{'contractSymbol': 'AAPL200619C00330000', 'str...</td>\n",
       "    </tr>\n",
       "    <tr>\n",
       "      <th>1426</th>\n",
       "      <td>340.0</td>\n",
       "      <td>2020-06-19</td>\n",
       "      <td>call</td>\n",
       "      <td>...</td>\n",
       "      <td>2019-11-27 21:00:01</td>\n",
       "      <td>2019-11-27 18:46:43</td>\n",
       "      <td>{'contractSymbol': 'AAPL200619C00340000', 'str...</td>\n",
       "    </tr>\n",
       "    <tr>\n",
       "      <th>1439</th>\n",
       "      <td>350.0</td>\n",
       "      <td>2020-06-19</td>\n",
       "      <td>call</td>\n",
       "      <td>...</td>\n",
       "      <td>2019-11-27 21:00:01</td>\n",
       "      <td>2019-11-27 20:56:28</td>\n",
       "      <td>{'contractSymbol': 'AAPL200619C00350000', 'str...</td>\n",
       "    </tr>\n",
       "  </tbody>\n",
       "</table>\n",
       "<p>46 rows × 19 columns</p>\n",
       "</div>"
      ],
      "text/plain": [
       "      Strike     Expiry  Type  ...          Quote_Time     Last_Trade_Date  \\\n",
       "12      75.0 2020-06-19  call  ... 2019-11-27 21:00:01 2019-11-06 20:39:24   \n",
       "20      80.0 2020-06-19  call  ... 2019-11-27 21:00:01 2019-11-07 15:17:08   \n",
       "28      85.0 2020-06-19  call  ... 2019-11-27 21:00:01 2019-11-06 19:55:37   \n",
       "36      90.0 2020-06-19  call  ... 2019-11-27 21:00:01 2019-11-12 16:31:00   \n",
       "44      95.0 2020-06-19  call  ... 2019-11-27 21:00:01 2019-11-06 20:09:51   \n",
       "...      ...        ...   ...  ...                 ...                 ...   \n",
       "1331   310.0 2020-06-19  call  ... 2019-11-27 21:00:01 2019-11-27 20:54:48   \n",
       "1368   320.0 2020-06-19  call  ... 2019-11-27 21:00:01 2019-11-27 20:55:57   \n",
       "1404   330.0 2020-06-19  call  ... 2019-11-27 21:00:01 2019-11-27 20:41:49   \n",
       "1426   340.0 2020-06-19  call  ... 2019-11-27 21:00:01 2019-11-27 18:46:43   \n",
       "1439   350.0 2020-06-19  call  ... 2019-11-27 21:00:01 2019-11-27 20:56:28   \n",
       "\n",
       "                                                   JSON  \n",
       "12    {'contractSymbol': 'AAPL200619C00075000', 'str...  \n",
       "20    {'contractSymbol': 'AAPL200619C00080000', 'str...  \n",
       "28    {'contractSymbol': 'AAPL200619C00085000', 'str...  \n",
       "36    {'contractSymbol': 'AAPL200619C00090000', 'str...  \n",
       "44    {'contractSymbol': 'AAPL200619C00095000', 'str...  \n",
       "...                                                 ...  \n",
       "1331  {'contractSymbol': 'AAPL200619C00310000', 'str...  \n",
       "1368  {'contractSymbol': 'AAPL200619C00320000', 'str...  \n",
       "1404  {'contractSymbol': 'AAPL200619C00330000', 'str...  \n",
       "1426  {'contractSymbol': 'AAPL200619C00340000', 'str...  \n",
       "1439  {'contractSymbol': 'AAPL200619C00350000', 'str...  \n",
       "\n",
       "[46 rows x 19 columns]"
      ]
     },
     "execution_count": 6,
     "metadata": {},
     "output_type": "execute_result"
    }
   ],
   "source": [
    "fecha1 = '2020-06-19'\n",
    "fecha2 = '2021-01-15'\n",
    "call06 = aapl_opt.loc[(aapl_opt.Expiry== fecha1) & (aapl_opt.Type=='call')]\n",
    "call06"
   ]
  },
  {
   "cell_type": "markdown",
   "metadata": {},
   "source": [
    "## 2. ¿Qué es la volatilidad implícita?"
   ]
  },
  {
   "cell_type": "markdown",
   "metadata": {},
   "source": [
    "**Volatilidad:** desviación estándar de los rendimientos.\n",
    "- ¿Cómo se calcula?\n",
    "- ¿Para qué calcular la volatilidad?"
   ]
  },
  {
   "attachments": {
    "imagen.png": {
     "image/png": "[encoded data removed]"
    }
   },
   "cell_type": "markdown",
   "metadata": {},
   "source": [
    "- **Para valuar derivados**, por ejemplo **opciones**.\n",
    "- Método de valuación de riesgo neutral (se supone que el precio del activo $S_t$ no se ve afectado por el riesgo de mercado).\n",
    "\n",
    "Recorderis de cuantitativas:\n",
    "1. Ecuación de Black-Scholes\n",
    "$$ dS(t) = \\mu S(t) + \\sigma S(t)dW_t$$\n",
    "2. Solución de la ecuación\n",
    "\n",
    "El valor de una opción Europea de vainilla $V_t$ puede obtenerse por:\n",
    "$$V_t = F(t,S_t)$$ donde\n",
    "![imagen.png](attachment:imagen.png)\n",
    "3. Opción de compra europea, suponiendo que los precios del activo son lognormales\n",
    "4. Opción de venta europea, suponiendo que los precios del activo son lognormales"
   ]
  },
  {
   "cell_type": "markdown",
   "metadata": {},
   "source": [
    "Entonces, ¿qué es la **volatilidad implícita**?\n",
    "\n",
    "La volatilidad es una medida de la incertidumbre sobre el comportamiento futuro de un activo, que se mide habitualmente como la desviación típica de la rentabilidad de dicho activo. "
   ]
  },
  {
   "attachments": {
    "imagen.png": {
     "image/png": "[encoded data removed]"
    }
   },
   "cell_type": "markdown",
   "metadata": {},
   "source": [
    "## Volatility smile \n",
    "-  Cuando las opciones con la misma fecha de vencimiento y el mismo activo subyacente, pero diferentes precios de ejercicio, se grafican por la volatilidad implícita, la tendencia es que ese gráfico muestre una sonrisa.\n",
    "-  La sonrisa muestra que las opciones más alejadas 'in- or out-of-the-money' tienen la mayor volatilidad implícita.\n",
    "- No todas las opciones tendrán una sonrisa de volatilidad implícita. Las opciones de acciones a corto plazo y las opciones relacionadas con la moneda tienen más probabilidades de tener una sonrisa de volatilidad\n",
    "\n",
    "![imagen.png](attachment:imagen.png)\n",
    "\n",
    "> Fuente: https://www.investopedia.com/terms/v/volatilitysmile.asp"
   ]
  },
  {
   "cell_type": "markdown",
   "metadata": {},
   "source": [
    "> ### Validar para la `fecha = '2020-01-17'` y para la fecha `fecha = '2021-01-15'`"
   ]
  },
  {
   "cell_type": "code",
   "execution_count": 7,
   "metadata": {
    "scrolled": false
   },
   "outputs": [
    {
     "data": {
      "image/png": "[encoded data removed]",
      "text/plain": [
       "<Figure size 576x432 with 1 Axes>"
      ]
     },
     "metadata": {
      "needs_background": "light"
     },
     "output_type": "display_data"
    }
   ],
   "source": [
    "ax = call06.set_index('Strike').loc[:, 'IV'].plot(figsize=(8,6))\n",
    "ax.axvline(call06.Underlying_Price.iloc[0], color='g');\n",
    "# call06.Underlying_Price"
   ]
  },
  {
   "cell_type": "code",
   "execution_count": 8,
   "metadata": {},
   "outputs": [
    {
     "data": {
      "text/html": [
       "<div>\n",
       "<style scoped>\n",
       "    .dataframe tbody tr th:only-of-type {\n",
       "        vertical-align: middle;\n",
       "    }\n",
       "\n",
       "    .dataframe tbody tr th {\n",
       "        vertical-align: top;\n",
       "    }\n",
       "\n",
       "    .dataframe thead th {\n",
       "        text-align: right;\n",
       "    }\n",
       "</style>\n",
       "<table border=\"1\" class=\"dataframe\">\n",
       "  <thead>\n",
       "    <tr style=\"text-align: right;\">\n",
       "      <th></th>\n",
       "      <th>Strike</th>\n",
       "      <th>Expiry</th>\n",
       "      <th>Type</th>\n",
       "      <th>...</th>\n",
       "      <th>Quote_Time</th>\n",
       "      <th>Last_Trade_Date</th>\n",
       "      <th>JSON</th>\n",
       "    </tr>\n",
       "  </thead>\n",
       "  <tbody>\n",
       "    <tr>\n",
       "      <th>13</th>\n",
       "      <td>75.0</td>\n",
       "      <td>2020-06-19</td>\n",
       "      <td>put</td>\n",
       "      <td>...</td>\n",
       "      <td>2019-11-27 21:00:01</td>\n",
       "      <td>2019-11-26 14:46:09</td>\n",
       "      <td>{'contractSymbol': 'AAPL200619P00075000', 'str...</td>\n",
       "    </tr>\n",
       "    <tr>\n",
       "      <th>21</th>\n",
       "      <td>80.0</td>\n",
       "      <td>2020-06-19</td>\n",
       "      <td>put</td>\n",
       "      <td>...</td>\n",
       "      <td>2019-11-27 21:00:01</td>\n",
       "      <td>2019-11-11 19:09:55</td>\n",
       "      <td>{'contractSymbol': 'AAPL200619P00080000', 'str...</td>\n",
       "    </tr>\n",
       "    <tr>\n",
       "      <th>29</th>\n",
       "      <td>85.0</td>\n",
       "      <td>2020-06-19</td>\n",
       "      <td>put</td>\n",
       "      <td>...</td>\n",
       "      <td>2019-11-27 21:00:01</td>\n",
       "      <td>2019-11-15 20:09:22</td>\n",
       "      <td>{'contractSymbol': 'AAPL200619P00085000', 'str...</td>\n",
       "    </tr>\n",
       "    <tr>\n",
       "      <th>37</th>\n",
       "      <td>90.0</td>\n",
       "      <td>2020-06-19</td>\n",
       "      <td>put</td>\n",
       "      <td>...</td>\n",
       "      <td>2019-11-27 21:00:01</td>\n",
       "      <td>2019-11-15 17:15:44</td>\n",
       "      <td>{'contractSymbol': 'AAPL200619P00090000', 'str...</td>\n",
       "    </tr>\n",
       "    <tr>\n",
       "      <th>45</th>\n",
       "      <td>95.0</td>\n",
       "      <td>2020-06-19</td>\n",
       "      <td>put</td>\n",
       "      <td>...</td>\n",
       "      <td>2019-11-27 21:00:01</td>\n",
       "      <td>2019-11-26 16:58:01</td>\n",
       "      <td>{'contractSymbol': 'AAPL200619P00095000', 'str...</td>\n",
       "    </tr>\n",
       "    <tr>\n",
       "      <th>...</th>\n",
       "      <td>...</td>\n",
       "      <td>...</td>\n",
       "      <td>...</td>\n",
       "      <td>...</td>\n",
       "      <td>...</td>\n",
       "      <td>...</td>\n",
       "      <td>...</td>\n",
       "    </tr>\n",
       "    <tr>\n",
       "      <th>1288</th>\n",
       "      <td>300.0</td>\n",
       "      <td>2020-06-19</td>\n",
       "      <td>put</td>\n",
       "      <td>...</td>\n",
       "      <td>2019-11-27 21:00:01</td>\n",
       "      <td>2019-11-26 14:45:42</td>\n",
       "      <td>{'contractSymbol': 'AAPL200619P00300000', 'str...</td>\n",
       "    </tr>\n",
       "    <tr>\n",
       "      <th>1332</th>\n",
       "      <td>310.0</td>\n",
       "      <td>2020-06-19</td>\n",
       "      <td>put</td>\n",
       "      <td>...</td>\n",
       "      <td>2019-11-27 21:00:01</td>\n",
       "      <td>2019-11-22 14:52:43</td>\n",
       "      <td>{'contractSymbol': 'AAPL200619P00310000', 'str...</td>\n",
       "    </tr>\n",
       "    <tr>\n",
       "      <th>1369</th>\n",
       "      <td>320.0</td>\n",
       "      <td>2020-06-19</td>\n",
       "      <td>put</td>\n",
       "      <td>...</td>\n",
       "      <td>2019-11-27 21:00:01</td>\n",
       "      <td>2019-11-21 16:31:54</td>\n",
       "      <td>{'contractSymbol': 'AAPL200619P00320000', 'str...</td>\n",
       "    </tr>\n",
       "    <tr>\n",
       "      <th>1405</th>\n",
       "      <td>330.0</td>\n",
       "      <td>2020-06-19</td>\n",
       "      <td>put</td>\n",
       "      <td>...</td>\n",
       "      <td>2019-11-27 21:00:01</td>\n",
       "      <td>2019-11-14 19:53:37</td>\n",
       "      <td>{'contractSymbol': 'AAPL200619P00330000', 'str...</td>\n",
       "    </tr>\n",
       "    <tr>\n",
       "      <th>1427</th>\n",
       "      <td>340.0</td>\n",
       "      <td>2020-06-19</td>\n",
       "      <td>put</td>\n",
       "      <td>...</td>\n",
       "      <td>2019-11-27 21:00:01</td>\n",
       "      <td>2019-11-14 15:54:23</td>\n",
       "      <td>{'contractSymbol': 'AAPL200619P00340000', 'str...</td>\n",
       "    </tr>\n",
       "  </tbody>\n",
       "</table>\n",
       "<p>45 rows × 19 columns</p>\n",
       "</div>"
      ],
      "text/plain": [
       "      Strike     Expiry Type  ...          Quote_Time     Last_Trade_Date  \\\n",
       "13      75.0 2020-06-19  put  ... 2019-11-27 21:00:01 2019-11-26 14:46:09   \n",
       "21      80.0 2020-06-19  put  ... 2019-11-27 21:00:01 2019-11-11 19:09:55   \n",
       "29      85.0 2020-06-19  put  ... 2019-11-27 21:00:01 2019-11-15 20:09:22   \n",
       "37      90.0 2020-06-19  put  ... 2019-11-27 21:00:01 2019-11-15 17:15:44   \n",
       "45      95.0 2020-06-19  put  ... 2019-11-27 21:00:01 2019-11-26 16:58:01   \n",
       "...      ...        ...  ...  ...                 ...                 ...   \n",
       "1288   300.0 2020-06-19  put  ... 2019-11-27 21:00:01 2019-11-26 14:45:42   \n",
       "1332   310.0 2020-06-19  put  ... 2019-11-27 21:00:01 2019-11-22 14:52:43   \n",
       "1369   320.0 2020-06-19  put  ... 2019-11-27 21:00:01 2019-11-21 16:31:54   \n",
       "1405   330.0 2020-06-19  put  ... 2019-11-27 21:00:01 2019-11-14 19:53:37   \n",
       "1427   340.0 2020-06-19  put  ... 2019-11-27 21:00:01 2019-11-14 15:54:23   \n",
       "\n",
       "                                                   JSON  \n",
       "13    {'contractSymbol': 'AAPL200619P00075000', 'str...  \n",
       "21    {'contractSymbol': 'AAPL200619P00080000', 'str...  \n",
       "29    {'contractSymbol': 'AAPL200619P00085000', 'str...  \n",
       "37    {'contractSymbol': 'AAPL200619P00090000', 'str...  \n",
       "45    {'contractSymbol': 'AAPL200619P00095000', 'str...  \n",
       "...                                                 ...  \n",
       "1288  {'contractSymbol': 'AAPL200619P00300000', 'str...  \n",
       "1332  {'contractSymbol': 'AAPL200619P00310000', 'str...  \n",
       "1369  {'contractSymbol': 'AAPL200619P00320000', 'str...  \n",
       "1405  {'contractSymbol': 'AAPL200619P00330000', 'str...  \n",
       "1427  {'contractSymbol': 'AAPL200619P00340000', 'str...  \n",
       "\n",
       "[45 rows x 19 columns]"
      ]
     },
     "execution_count": 8,
     "metadata": {},
     "output_type": "execute_result"
    }
   ],
   "source": [
    "put06 = aapl_opt.loc[(aapl_opt.Expiry==fecha1) & (aapl_opt.Type=='put')]\n",
    "put06"
   ]
  },
  {
   "cell_type": "code",
   "execution_count": 9,
   "metadata": {},
   "outputs": [
    {
     "data": {
      "text/plain": [
       "<matplotlib.lines.Line2D at 0x2356b97f0f0>"
      ]
     },
     "execution_count": 9,
     "metadata": {},
     "output_type": "execute_result"
    },
    {
     "data": {
      "image/png": "[encoded data removed]",
      "text/plain": [
       "<Figure size 576x432 with 1 Axes>"
      ]
     },
     "metadata": {
      "needs_background": "light"
     },
     "output_type": "display_data"
    }
   ],
   "source": [
    "ax = put06.set_index('Strike').loc[:, 'IV'].plot(figsize=(8,6))\n",
    "ax.axvline(put06.Underlying_Price.iloc[0], color='g')"
   ]
  },
  {
   "cell_type": "markdown",
   "metadata": {},
   "source": [
    "Con lo que hemos aprendido, deberíamos ser capaces de crear una función que nos devuelva un `DataFrame` de `pandas` con los precios de cierre ajustados de ciertas compañías en ciertas fechas:\n",
    "- Escribir la función a continuación"
   ]
  },
  {
   "cell_type": "code",
   "execution_count": 10,
   "metadata": {},
   "outputs": [],
   "source": [
    "# Función para descargar precios de cierre ajustados:\n",
    "def get_adj_closes(tickers, start_date=None, end_date=None):\n",
    "    # Fecha inicio por defecto (start_date='2010-01-01') y fecha fin por defecto (end_date=today)\n",
    "    # Descargamos DataFrame con todos los datos\n",
    "    closes = web.DataReader(name=tickers, data_source='yahoo', start=start_date, end=end_date)\n",
    "    # Solo necesitamos los precios ajustados en el cierre\n",
    "    closes = closes['Adj Close']\n",
    "    # Se ordenan los índices de manera ascendente\n",
    "    closes.sort_index(inplace=True)\n",
    "    return closes"
   ]
  },
  {
   "cell_type": "markdown",
   "metadata": {},
   "source": [
    "- Obtener como ejemplo los precios de cierre de Apple del año pasado hasta la fecha. Graficar..."
   ]
  },
  {
   "cell_type": "code",
   "execution_count": 11,
   "metadata": {},
   "outputs": [
    {
     "data": {
      "image/png": "[encoded data removed]",
      "text/plain": [
       "<Figure size 576x360 with 1 Axes>"
      ]
     },
     "metadata": {
      "needs_background": "light"
     },
     "output_type": "display_data"
    }
   ],
   "source": [
    "ticker = ['AAPL']\n",
    "start_date = '2017-01-01'\n",
    "\n",
    "closes_aapl = get_adj_closes(ticker, start_date)\n",
    "closes_aapl.plot(figsize=(8,5));\n",
    "plt.legend(ticker);"
   ]
  },
  {
   "cell_type": "markdown",
   "metadata": {},
   "source": [
    "- Escribir una función que pasándole el histórico de precios devuelva los rendimientos logarítmicos:"
   ]
  },
  {
   "cell_type": "code",
   "execution_count": 12,
   "metadata": {},
   "outputs": [],
   "source": [
    "def calc_daily_ret(closes):\n",
    "    return np.log(closes/closes.shift(1)).iloc[1:]"
   ]
  },
  {
   "cell_type": "markdown",
   "metadata": {},
   "source": [
    "- Graficar..."
   ]
  },
  {
   "cell_type": "code",
   "execution_count": 13,
   "metadata": {},
   "outputs": [
    {
     "data": {
      "image/png": "[encoded data removed]",
      "text/plain": [
       "<Figure size 576x432 with 1 Axes>"
      ]
     },
     "metadata": {
      "needs_background": "light"
     },
     "output_type": "display_data"
    }
   ],
   "source": [
    "ret_aapl = calc_daily_ret(closes_aapl)\n",
    "ret_aapl.plot(figsize=(8,6));"
   ]
  },
  {
   "cell_type": "markdown",
   "metadata": {},
   "source": [
    "También, descargar datos de opciones de Apple:"
   ]
  },
  {
   "cell_type": "code",
   "execution_count": 14,
   "metadata": {
    "scrolled": false
   },
   "outputs": [
    {
     "data": {
      "text/html": [
       "<div>\n",
       "<style scoped>\n",
       "    .dataframe tbody tr th:only-of-type {\n",
       "        vertical-align: middle;\n",
       "    }\n",
       "\n",
       "    .dataframe tbody tr th {\n",
       "        vertical-align: top;\n",
       "    }\n",
       "\n",
       "    .dataframe thead th {\n",
       "        text-align: right;\n",
       "    }\n",
       "</style>\n",
       "<table border=\"1\" class=\"dataframe\">\n",
       "  <thead>\n",
       "    <tr style=\"text-align: right;\">\n",
       "      <th></th>\n",
       "      <th>Strike</th>\n",
       "      <th>Type</th>\n",
       "      <th>Symbol</th>\n",
       "      <th>...</th>\n",
       "      <th>Quote_Time</th>\n",
       "      <th>Last_Trade_Date</th>\n",
       "      <th>JSON</th>\n",
       "    </tr>\n",
       "    <tr>\n",
       "      <th>Expiry</th>\n",
       "      <th></th>\n",
       "      <th></th>\n",
       "      <th></th>\n",
       "      <th></th>\n",
       "      <th></th>\n",
       "      <th></th>\n",
       "      <th></th>\n",
       "    </tr>\n",
       "  </thead>\n",
       "  <tbody>\n",
       "    <tr>\n",
       "      <th>2019-11-29</th>\n",
       "      <td>227.5</td>\n",
       "      <td>call</td>\n",
       "      <td>AAPL191129C00227500</td>\n",
       "      <td>...</td>\n",
       "      <td>2019-11-27 21:00:01</td>\n",
       "      <td>2019-11-27 20:53:40</td>\n",
       "      <td>{'contractSymbol': 'AAPL191129C00227500', 'str...</td>\n",
       "    </tr>\n",
       "    <tr>\n",
       "      <th>2019-11-29</th>\n",
       "      <td>302.5</td>\n",
       "      <td>call</td>\n",
       "      <td>AAPL191129C00302500</td>\n",
       "      <td>...</td>\n",
       "      <td>2019-11-27 21:00:01</td>\n",
       "      <td>2019-11-19 20:25:51</td>\n",
       "      <td>{'contractSymbol': 'AAPL191129C00302500', 'str...</td>\n",
       "    </tr>\n",
       "    <tr>\n",
       "      <th>2019-11-29</th>\n",
       "      <td>245.0</td>\n",
       "      <td>put</td>\n",
       "      <td>AAPL191129P00245000</td>\n",
       "      <td>...</td>\n",
       "      <td>2019-11-27 21:00:01</td>\n",
       "      <td>2019-11-27 20:56:23</td>\n",
       "      <td>{'contractSymbol': 'AAPL191129P00245000', 'str...</td>\n",
       "    </tr>\n",
       "    <tr>\n",
       "      <th>2019-11-29</th>\n",
       "      <td>170.0</td>\n",
       "      <td>call</td>\n",
       "      <td>AAPL191129C00170000</td>\n",
       "      <td>...</td>\n",
       "      <td>2019-11-27 21:00:01</td>\n",
       "      <td>2019-11-27 20:54:00</td>\n",
       "      <td>{'contractSymbol': 'AAPL191129C00170000', 'str...</td>\n",
       "    </tr>\n",
       "    <tr>\n",
       "      <th>2019-11-29</th>\n",
       "      <td>247.5</td>\n",
       "      <td>call</td>\n",
       "      <td>AAPL191129C00247500</td>\n",
       "      <td>...</td>\n",
       "      <td>2019-11-27 21:00:01</td>\n",
       "      <td>2019-11-27 20:53:40</td>\n",
       "      <td>{'contractSymbol': 'AAPL191129C00247500', 'str...</td>\n",
       "    </tr>\n",
       "    <tr>\n",
       "      <th>...</th>\n",
       "      <td>...</td>\n",
       "      <td>...</td>\n",
       "      <td>...</td>\n",
       "      <td>...</td>\n",
       "      <td>...</td>\n",
       "      <td>...</td>\n",
       "      <td>...</td>\n",
       "    </tr>\n",
       "    <tr>\n",
       "      <th>2022-01-21</th>\n",
       "      <td>180.0</td>\n",
       "      <td>put</td>\n",
       "      <td>AAPL220121P00180000</td>\n",
       "      <td>...</td>\n",
       "      <td>2019-11-27 21:00:01</td>\n",
       "      <td>2019-11-27 19:20:31</td>\n",
       "      <td>{'contractSymbol': 'AAPL220121P00180000', 'str...</td>\n",
       "    </tr>\n",
       "    <tr>\n",
       "      <th>2022-01-21</th>\n",
       "      <td>180.0</td>\n",
       "      <td>call</td>\n",
       "      <td>AAPL220121C00180000</td>\n",
       "      <td>...</td>\n",
       "      <td>2019-11-27 21:00:01</td>\n",
       "      <td>2019-11-25 20:58:34</td>\n",
       "      <td>{'contractSymbol': 'AAPL220121C00180000', 'str...</td>\n",
       "    </tr>\n",
       "    <tr>\n",
       "      <th>2022-01-21</th>\n",
       "      <td>235.0</td>\n",
       "      <td>call</td>\n",
       "      <td>AAPL220121C00235000</td>\n",
       "      <td>...</td>\n",
       "      <td>2019-11-27 21:00:01</td>\n",
       "      <td>2019-11-26 15:45:06</td>\n",
       "      <td>{'contractSymbol': 'AAPL220121C00235000', 'str...</td>\n",
       "    </tr>\n",
       "    <tr>\n",
       "      <th>2022-01-21</th>\n",
       "      <td>265.0</td>\n",
       "      <td>put</td>\n",
       "      <td>AAPL220121P00265000</td>\n",
       "      <td>...</td>\n",
       "      <td>2019-11-27 21:00:01</td>\n",
       "      <td>2019-11-26 20:41:14</td>\n",
       "      <td>{'contractSymbol': 'AAPL220121P00265000', 'str...</td>\n",
       "    </tr>\n",
       "    <tr>\n",
       "      <th>2022-01-21</th>\n",
       "      <td>300.0</td>\n",
       "      <td>put</td>\n",
       "      <td>AAPL220121P00300000</td>\n",
       "      <td>...</td>\n",
       "      <td>2019-11-27 21:00:01</td>\n",
       "      <td>2019-11-20 16:03:40</td>\n",
       "      <td>{'contractSymbol': 'AAPL220121P00300000', 'str...</td>\n",
       "    </tr>\n",
       "  </tbody>\n",
       "</table>\n",
       "<p>1485 rows × 18 columns</p>\n",
       "</div>"
      ],
      "text/plain": [
       "            Strike  Type               Symbol  ...          Quote_Time  \\\n",
       "Expiry                                         ...                       \n",
       "2019-11-29   227.5  call  AAPL191129C00227500  ... 2019-11-27 21:00:01   \n",
       "2019-11-29   302.5  call  AAPL191129C00302500  ... 2019-11-27 21:00:01   \n",
       "2019-11-29   245.0   put  AAPL191129P00245000  ... 2019-11-27 21:00:01   \n",
       "2019-11-29   170.0  call  AAPL191129C00170000  ... 2019-11-27 21:00:01   \n",
       "2019-11-29   247.5  call  AAPL191129C00247500  ... 2019-11-27 21:00:01   \n",
       "...            ...   ...                  ...  ...                 ...   \n",
       "2022-01-21   180.0   put  AAPL220121P00180000  ... 2019-11-27 21:00:01   \n",
       "2022-01-21   180.0  call  AAPL220121C00180000  ... 2019-11-27 21:00:01   \n",
       "2022-01-21   235.0  call  AAPL220121C00235000  ... 2019-11-27 21:00:01   \n",
       "2022-01-21   265.0   put  AAPL220121P00265000  ... 2019-11-27 21:00:01   \n",
       "2022-01-21   300.0   put  AAPL220121P00300000  ... 2019-11-27 21:00:01   \n",
       "\n",
       "               Last_Trade_Date  \\\n",
       "Expiry                           \n",
       "2019-11-29 2019-11-27 20:53:40   \n",
       "2019-11-29 2019-11-19 20:25:51   \n",
       "2019-11-29 2019-11-27 20:56:23   \n",
       "2019-11-29 2019-11-27 20:54:00   \n",
       "2019-11-29 2019-11-27 20:53:40   \n",
       "...                        ...   \n",
       "2022-01-21 2019-11-27 19:20:31   \n",
       "2022-01-21 2019-11-25 20:58:34   \n",
       "2022-01-21 2019-11-26 15:45:06   \n",
       "2022-01-21 2019-11-26 20:41:14   \n",
       "2022-01-21 2019-11-20 16:03:40   \n",
       "\n",
       "                                                         JSON  \n",
       "Expiry                                                         \n",
       "2019-11-29  {'contractSymbol': 'AAPL191129C00227500', 'str...  \n",
       "2019-11-29  {'contractSymbol': 'AAPL191129C00302500', 'str...  \n",
       "2019-11-29  {'contractSymbol': 'AAPL191129P00245000', 'str...  \n",
       "2019-11-29  {'contractSymbol': 'AAPL191129C00170000', 'str...  \n",
       "2019-11-29  {'contractSymbol': 'AAPL191129C00247500', 'str...  \n",
       "...                                                       ...  \n",
       "2022-01-21  {'contractSymbol': 'AAPL220121P00180000', 'str...  \n",
       "2022-01-21  {'contractSymbol': 'AAPL220121C00180000', 'str...  \n",
       "2022-01-21  {'contractSymbol': 'AAPL220121C00235000', 'str...  \n",
       "2022-01-21  {'contractSymbol': 'AAPL220121P00265000', 'str...  \n",
       "2022-01-21  {'contractSymbol': 'AAPL220121P00300000', 'str...  \n",
       "\n",
       "[1485 rows x 18 columns]"
      ]
     },
     "execution_count": 14,
     "metadata": {},
     "output_type": "execute_result"
    }
   ],
   "source": [
    "pd.set_option('display.max_rows', 10)\n",
    "\n",
    "aapl = web.YahooOptions('AAPL')\n",
    "aapl_opt = aapl.get_all_data().reset_index()\n",
    "aapl_opt.set_index('Expiry').sort_index()"
   ]
  },
  {
   "cell_type": "code",
   "execution_count": 15,
   "metadata": {},
   "outputs": [
    {
     "data": {
      "text/html": [
       "<div>\n",
       "<style scoped>\n",
       "    .dataframe tbody tr th:only-of-type {\n",
       "        vertical-align: middle;\n",
       "    }\n",
       "\n",
       "    .dataframe tbody tr th {\n",
       "        vertical-align: top;\n",
       "    }\n",
       "\n",
       "    .dataframe thead th {\n",
       "        text-align: right;\n",
       "    }\n",
       "</style>\n",
       "<table border=\"1\" class=\"dataframe\">\n",
       "  <thead>\n",
       "    <tr style=\"text-align: right;\">\n",
       "      <th></th>\n",
       "      <th>Strike</th>\n",
       "      <th>Expiry</th>\n",
       "      <th>Type</th>\n",
       "      <th>...</th>\n",
       "      <th>Quote_Time</th>\n",
       "      <th>Last_Trade_Date</th>\n",
       "      <th>JSON</th>\n",
       "    </tr>\n",
       "  </thead>\n",
       "  <tbody>\n",
       "    <tr>\n",
       "      <th>902</th>\n",
       "      <td>250.0</td>\n",
       "      <td>2020-03-20</td>\n",
       "      <td>call</td>\n",
       "      <td>...</td>\n",
       "      <td>2019-11-27 21:00:01</td>\n",
       "      <td>2019-11-27 20:58:41</td>\n",
       "      <td>{'contractSymbol': 'AAPL200320C00250000', 'str...</td>\n",
       "    </tr>\n",
       "  </tbody>\n",
       "</table>\n",
       "<p>1 rows × 19 columns</p>\n",
       "</div>"
      ],
      "text/plain": [
       "     Strike     Expiry  Type  ...          Quote_Time     Last_Trade_Date  \\\n",
       "902   250.0 2020-03-20  call  ... 2019-11-27 21:00:01 2019-11-27 20:58:41   \n",
       "\n",
       "                                                  JSON  \n",
       "902  {'contractSymbol': 'AAPL200320C00250000', 'str...  \n",
       "\n",
       "[1 rows x 19 columns]"
      ]
     },
     "execution_count": 15,
     "metadata": {},
     "output_type": "execute_result"
    }
   ],
   "source": [
    "indice_opt = aapl_opt.loc[(aapl_opt.Type=='call') & (aapl_opt.Strike==250) & (aapl_opt.Expiry=='2020-03-20')]\n",
    "indice_opt"
   ]
  },
  {
   "cell_type": "code",
   "execution_count": 16,
   "metadata": {
    "scrolled": false
   },
   "outputs": [
    {
     "data": {
      "text/plain": [
       "{'contractSymbol': 'AAPL200320C00250000',\n",
       " 'strike': 250.0,\n",
       " 'currency': 'USD',\n",
       " 'lastPrice': 25.65,\n",
       " 'change': 1.6499996,\n",
       " 'percentChange': 6.8749986,\n",
       " 'volume': 53,\n",
       " 'openInterest': 3911,\n",
       " 'bid': 25.75,\n",
       " 'ask': 25.9,\n",
       " 'contractSize': 'REGULAR',\n",
       " 'expiration': 1584662400,\n",
       " 'lastTradeDate': 1574888321,\n",
       " 'impliedVolatility': 0.2651745846557617,\n",
       " 'inTheMoney': True}"
      ]
     },
     "execution_count": 16,
     "metadata": {},
     "output_type": "execute_result"
    }
   ],
   "source": [
    "i_opt= indice_opt.index\n",
    "opcion_valuar = aapl_opt.loc[i_opt[0]]\n",
    "opcion_valuar['JSON']"
   ]
  },
  {
   "cell_type": "code",
   "execution_count": 17,
   "metadata": {},
   "outputs": [
    {
     "name": "stdout",
     "output_type": "stream",
     "text": [
      "Precio del activo subyacente actual =  267.84\n"
     ]
    }
   ],
   "source": [
    "print('Precio del activo subyacente actual = ',opcion_valuar.Underlying_Price)"
   ]
  },
  {
   "cell_type": "markdown",
   "metadata": {},
   "source": [
    "# Simulación de precios usando rendimiento simple y logarítmico "
   ]
  },
  {
   "cell_type": "markdown",
   "metadata": {},
   "source": [
    "* Comenzaremos por suponer que los rendimientos son un p.e. estacionario que distribuyen $\\mathcal{N}(\\mu,\\sigma)$."
   ]
  },
  {
   "cell_type": "code",
   "execution_count": 18,
   "metadata": {},
   "outputs": [
    {
     "data": {
      "text/html": [
       "<div>\n",
       "<style scoped>\n",
       "    .dataframe tbody tr th:only-of-type {\n",
       "        vertical-align: middle;\n",
       "    }\n",
       "\n",
       "    .dataframe tbody tr th {\n",
       "        vertical-align: top;\n",
       "    }\n",
       "\n",
       "    .dataframe thead th {\n",
       "        text-align: right;\n",
       "    }\n",
       "</style>\n",
       "<table border=\"1\" class=\"dataframe\">\n",
       "  <thead>\n",
       "    <tr style=\"text-align: right;\">\n",
       "      <th>Symbols</th>\n",
       "      <th>AAPL</th>\n",
       "    </tr>\n",
       "    <tr>\n",
       "      <th>Date</th>\n",
       "      <th></th>\n",
       "    </tr>\n",
       "  </thead>\n",
       "  <tbody>\n",
       "    <tr>\n",
       "      <th>2017-01-03</th>\n",
       "      <td>110.954</td>\n",
       "    </tr>\n",
       "    <tr>\n",
       "      <th>2017-01-04</th>\n",
       "      <td>110.830</td>\n",
       "    </tr>\n",
       "    <tr>\n",
       "      <th>2017-01-05</th>\n",
       "      <td>111.393</td>\n",
       "    </tr>\n",
       "    <tr>\n",
       "      <th>2017-01-06</th>\n",
       "      <td>112.635</td>\n",
       "    </tr>\n",
       "    <tr>\n",
       "      <th>2017-01-09</th>\n",
       "      <td>113.667</td>\n",
       "    </tr>\n",
       "    <tr>\n",
       "      <th>...</th>\n",
       "      <td>...</td>\n",
       "    </tr>\n",
       "    <tr>\n",
       "      <th>2019-11-21</th>\n",
       "      <td>262.010</td>\n",
       "    </tr>\n",
       "    <tr>\n",
       "      <th>2019-11-22</th>\n",
       "      <td>261.780</td>\n",
       "    </tr>\n",
       "    <tr>\n",
       "      <th>2019-11-25</th>\n",
       "      <td>266.370</td>\n",
       "    </tr>\n",
       "    <tr>\n",
       "      <th>2019-11-26</th>\n",
       "      <td>264.290</td>\n",
       "    </tr>\n",
       "    <tr>\n",
       "      <th>2019-11-27</th>\n",
       "      <td>267.840</td>\n",
       "    </tr>\n",
       "  </tbody>\n",
       "</table>\n",
       "<p>732 rows × 1 columns</p>\n",
       "</div>"
      ],
      "text/plain": [
       "Symbols        AAPL\n",
       "Date               \n",
       "2017-01-03  110.954\n",
       "2017-01-04  110.830\n",
       "2017-01-05  111.393\n",
       "2017-01-06  112.635\n",
       "2017-01-09  113.667\n",
       "...             ...\n",
       "2019-11-21  262.010\n",
       "2019-11-22  261.780\n",
       "2019-11-25  266.370\n",
       "2019-11-26  264.290\n",
       "2019-11-27  267.840\n",
       "\n",
       "[732 rows x 1 columns]"
      ]
     },
     "execution_count": 18,
     "metadata": {},
     "output_type": "execute_result"
    }
   ],
   "source": [
    "# Descargamos los precios de apple\n",
    "ticker = ['AAPL']\n",
    "start_date = '2017-01-01'\n",
    "\n",
    "closes_aapl = get_adj_closes(ticker, start_date)\n",
    "closes_aapl"
   ]
  },
  {
   "cell_type": "markdown",
   "metadata": {},
   "source": [
    "- **Rendimiento Simple**"
   ]
  },
  {
   "cell_type": "code",
   "execution_count": 19,
   "metadata": {
    "scrolled": false
   },
   "outputs": [
    {
     "data": {
      "text/html": [
       "<div>\n",
       "<style scoped>\n",
       "    .dataframe tbody tr th:only-of-type {\n",
       "        vertical-align: middle;\n",
       "    }\n",
       "\n",
       "    .dataframe tbody tr th {\n",
       "        vertical-align: top;\n",
       "    }\n",
       "\n",
       "    .dataframe thead th {\n",
       "        text-align: right;\n",
       "    }\n",
       "</style>\n",
       "<table border=\"1\" class=\"dataframe\">\n",
       "  <thead>\n",
       "    <tr style=\"text-align: right;\">\n",
       "      <th>Symbols</th>\n",
       "      <th>AAPL</th>\n",
       "    </tr>\n",
       "    <tr>\n",
       "      <th>Date</th>\n",
       "      <th></th>\n",
       "    </tr>\n",
       "  </thead>\n",
       "  <tbody>\n",
       "    <tr>\n",
       "      <th>2017-01-04</th>\n",
       "      <td>-1.119e-03</td>\n",
       "    </tr>\n",
       "    <tr>\n",
       "      <th>2017-01-05</th>\n",
       "      <td>5.085e-03</td>\n",
       "    </tr>\n",
       "    <tr>\n",
       "      <th>2017-01-06</th>\n",
       "      <td>1.115e-02</td>\n",
       "    </tr>\n",
       "    <tr>\n",
       "      <th>2017-01-09</th>\n",
       "      <td>9.160e-03</td>\n",
       "    </tr>\n",
       "    <tr>\n",
       "      <th>2017-01-10</th>\n",
       "      <td>1.009e-03</td>\n",
       "    </tr>\n",
       "    <tr>\n",
       "      <th>...</th>\n",
       "      <td>...</td>\n",
       "    </tr>\n",
       "    <tr>\n",
       "      <th>2019-11-21</th>\n",
       "      <td>-4.483e-03</td>\n",
       "    </tr>\n",
       "    <tr>\n",
       "      <th>2019-11-22</th>\n",
       "      <td>-8.779e-04</td>\n",
       "    </tr>\n",
       "    <tr>\n",
       "      <th>2019-11-25</th>\n",
       "      <td>1.753e-02</td>\n",
       "    </tr>\n",
       "    <tr>\n",
       "      <th>2019-11-26</th>\n",
       "      <td>-7.809e-03</td>\n",
       "    </tr>\n",
       "    <tr>\n",
       "      <th>2019-11-27</th>\n",
       "      <td>1.343e-02</td>\n",
       "    </tr>\n",
       "  </tbody>\n",
       "</table>\n",
       "<p>731 rows × 1 columns</p>\n",
       "</div>"
      ],
      "text/plain": [
       "Symbols          AAPL\n",
       "Date                 \n",
       "2017-01-04 -1.119e-03\n",
       "2017-01-05  5.085e-03\n",
       "2017-01-06  1.115e-02\n",
       "2017-01-09  9.160e-03\n",
       "2017-01-10  1.009e-03\n",
       "...               ...\n",
       "2019-11-21 -4.483e-03\n",
       "2019-11-22 -8.779e-04\n",
       "2019-11-25  1.753e-02\n",
       "2019-11-26 -7.809e-03\n",
       "2019-11-27  1.343e-02\n",
       "\n",
       "[731 rows x 1 columns]"
      ]
     },
     "execution_count": 19,
     "metadata": {},
     "output_type": "execute_result"
    }
   ],
   "source": [
    "# Obtenemos el rendimiento simple\n",
    "Ri = closes_aapl.pct_change(1).iloc[1:]\n",
    "# Obtenemos su media y desviación estándar de los rendimientos\n",
    "mu_R = Ri.mean()[0]\n",
    "sigma_R = Ri.std()[0]\n",
    "Ri"
   ]
  },
  {
   "cell_type": "code",
   "execution_count": 20,
   "metadata": {},
   "outputs": [
    {
     "data": {
      "text/plain": [
       "DatetimeIndex(['2019-11-27', '2019-11-28', '2019-11-29', '2019-11-30',\n",
       "               '2019-12-01', '2019-12-02', '2019-12-03', '2019-12-04',\n",
       "               '2019-12-05', '2019-12-06',\n",
       "               ...\n",
       "               '2020-03-11', '2020-03-12', '2020-03-13', '2020-03-14',\n",
       "               '2020-03-15', '2020-03-16', '2020-03-17', '2020-03-18',\n",
       "               '2020-03-19', '2020-03-20'],\n",
       "              dtype='datetime64[ns]', length=115, freq='D')"
      ]
     },
     "execution_count": 20,
     "metadata": {},
     "output_type": "execute_result"
    }
   ],
   "source": [
    "Hoy = date.today()\n",
    "fechaCierre = opcion_valuar.Expiry\n",
    "nscen = 10\n",
    "dates = pd.date_range(start=Hoy, end=fechaCierre)\n",
    "ndays = len(dates)\n",
    "dates"
   ]
  },
  {
   "cell_type": "code",
   "execution_count": 21,
   "metadata": {},
   "outputs": [
    {
     "data": {
      "text/html": [
       "<div>\n",
       "<style scoped>\n",
       "    .dataframe tbody tr th:only-of-type {\n",
       "        vertical-align: middle;\n",
       "    }\n",
       "\n",
       "    .dataframe tbody tr th {\n",
       "        vertical-align: top;\n",
       "    }\n",
       "\n",
       "    .dataframe thead th {\n",
       "        text-align: right;\n",
       "    }\n",
       "</style>\n",
       "<table border=\"1\" class=\"dataframe\">\n",
       "  <thead>\n",
       "    <tr style=\"text-align: right;\">\n",
       "      <th></th>\n",
       "      <th>0</th>\n",
       "      <th>1</th>\n",
       "      <th>2</th>\n",
       "      <th>...</th>\n",
       "      <th>7</th>\n",
       "      <th>8</th>\n",
       "      <th>9</th>\n",
       "    </tr>\n",
       "  </thead>\n",
       "  <tbody>\n",
       "    <tr>\n",
       "      <th>2019-11-27</th>\n",
       "      <td>-1.014e-03</td>\n",
       "      <td>1.892e-02</td>\n",
       "      <td>6.110e-03</td>\n",
       "      <td>...</td>\n",
       "      <td>-2.013e-02</td>\n",
       "      <td>5.513e-03</td>\n",
       "      <td>-4.710e-03</td>\n",
       "    </tr>\n",
       "    <tr>\n",
       "      <th>2019-11-28</th>\n",
       "      <td>1.422e-06</td>\n",
       "      <td>-9.191e-06</td>\n",
       "      <td>6.184e-05</td>\n",
       "      <td>...</td>\n",
       "      <td>1.011e-03</td>\n",
       "      <td>6.772e-05</td>\n",
       "      <td>-5.506e-06</td>\n",
       "    </tr>\n",
       "    <tr>\n",
       "      <th>2019-11-29</th>\n",
       "      <td>6.232e-09</td>\n",
       "      <td>3.015e-07</td>\n",
       "      <td>4.605e-08</td>\n",
       "      <td>...</td>\n",
       "      <td>4.583e-06</td>\n",
       "      <td>4.010e-07</td>\n",
       "      <td>-1.440e-08</td>\n",
       "    </tr>\n",
       "    <tr>\n",
       "      <th>2019-11-30</th>\n",
       "      <td>-1.084e-10</td>\n",
       "      <td>7.846e-10</td>\n",
       "      <td>-3.556e-10</td>\n",
       "      <td>...</td>\n",
       "      <td>-6.430e-08</td>\n",
       "      <td>2.247e-09</td>\n",
       "      <td>1.243e-10</td>\n",
       "    </tr>\n",
       "    <tr>\n",
       "      <th>2019-12-01</th>\n",
       "      <td>1.792e-12</td>\n",
       "      <td>1.737e-11</td>\n",
       "      <td>-7.929e-12</td>\n",
       "      <td>...</td>\n",
       "      <td>1.612e-09</td>\n",
       "      <td>-3.204e-11</td>\n",
       "      <td>2.464e-12</td>\n",
       "    </tr>\n",
       "    <tr>\n",
       "      <th>...</th>\n",
       "      <td>...</td>\n",
       "      <td>...</td>\n",
       "      <td>...</td>\n",
       "      <td>...</td>\n",
       "      <td>...</td>\n",
       "      <td>...</td>\n",
       "      <td>...</td>\n",
       "    </tr>\n",
       "    <tr>\n",
       "      <th>2020-03-16</th>\n",
       "      <td>7.567e-232</td>\n",
       "      <td>1.057e-237</td>\n",
       "      <td>-3.501e-233</td>\n",
       "      <td>...</td>\n",
       "      <td>-2.817e-235</td>\n",
       "      <td>2.312e-236</td>\n",
       "      <td>4.052e-236</td>\n",
       "    </tr>\n",
       "    <tr>\n",
       "      <th>2020-03-17</th>\n",
       "      <td>1.537e-233</td>\n",
       "      <td>-4.807e-240</td>\n",
       "      <td>-5.913e-235</td>\n",
       "      <td>...</td>\n",
       "      <td>-3.169e-237</td>\n",
       "      <td>-2.147e-238</td>\n",
       "      <td>-6.023e-239</td>\n",
       "    </tr>\n",
       "    <tr>\n",
       "      <th>2020-03-18</th>\n",
       "      <td>1.272e-235</td>\n",
       "      <td>7.545e-242</td>\n",
       "      <td>1.245e-236</td>\n",
       "      <td>...</td>\n",
       "      <td>3.321e-240</td>\n",
       "      <td>-6.607e-241</td>\n",
       "      <td>-2.093e-240</td>\n",
       "    </tr>\n",
       "    <tr>\n",
       "      <th>2020-03-19</th>\n",
       "      <td>-1.846e-237</td>\n",
       "      <td>5.067e-244</td>\n",
       "      <td>5.467e-239</td>\n",
       "      <td>...</td>\n",
       "      <td>3.855e-243</td>\n",
       "      <td>-1.579e-242</td>\n",
       "      <td>-3.493e-242</td>\n",
       "    </tr>\n",
       "    <tr>\n",
       "      <th>2020-03-20</th>\n",
       "      <td>-3.927e-239</td>\n",
       "      <td>1.124e-245</td>\n",
       "      <td>-2.479e-241</td>\n",
       "      <td>...</td>\n",
       "      <td>-2.713e-245</td>\n",
       "      <td>2.878e-244</td>\n",
       "      <td>1.426e-244</td>\n",
       "    </tr>\n",
       "  </tbody>\n",
       "</table>\n",
       "<p>115 rows × 10 columns</p>\n",
       "</div>"
      ],
      "text/plain": [
       "                     0           1           2  ...           7           8  \\\n",
       "2019-11-27  -1.014e-03   1.892e-02   6.110e-03  ...  -2.013e-02   5.513e-03   \n",
       "2019-11-28   1.422e-06  -9.191e-06   6.184e-05  ...   1.011e-03   6.772e-05   \n",
       "2019-11-29   6.232e-09   3.015e-07   4.605e-08  ...   4.583e-06   4.010e-07   \n",
       "2019-11-30  -1.084e-10   7.846e-10  -3.556e-10  ...  -6.430e-08   2.247e-09   \n",
       "2019-12-01   1.792e-12   1.737e-11  -7.929e-12  ...   1.612e-09  -3.204e-11   \n",
       "...                ...         ...         ...  ...         ...         ...   \n",
       "2020-03-16  7.567e-232  1.057e-237 -3.501e-233  ... -2.817e-235  2.312e-236   \n",
       "2020-03-17  1.537e-233 -4.807e-240 -5.913e-235  ... -3.169e-237 -2.147e-238   \n",
       "2020-03-18  1.272e-235  7.545e-242  1.245e-236  ...  3.321e-240 -6.607e-241   \n",
       "2020-03-19 -1.846e-237  5.067e-244  5.467e-239  ...  3.855e-243 -1.579e-242   \n",
       "2020-03-20 -3.927e-239  1.124e-245 -2.479e-241  ... -2.713e-245  2.878e-244   \n",
       "\n",
       "                     9  \n",
       "2019-11-27  -4.710e-03  \n",
       "2019-11-28  -5.506e-06  \n",
       "2019-11-29  -1.440e-08  \n",
       "2019-11-30   1.243e-10  \n",
       "2019-12-01   2.464e-12  \n",
       "...                ...  \n",
       "2020-03-16  4.052e-236  \n",
       "2020-03-17 -6.023e-239  \n",
       "2020-03-18 -2.093e-240  \n",
       "2020-03-19 -3.493e-242  \n",
       "2020-03-20  1.426e-244  \n",
       "\n",
       "[115 rows x 10 columns]"
      ]
     },
     "execution_count": 21,
     "metadata": {},
     "output_type": "execute_result"
    }
   ],
   "source": [
    "dt = 1; # Rendimiento diario \n",
    "Z = np.random.randn(ndays,nscen)  # Z ~ N(0,1)\n",
    "# Simulación normal de los rendimientos\n",
    "Ri_dt = pd.DataFrame(mu_R*dt+Z*sigma_R*np.sqrt(dt),index=dates)\n",
    "Ri_dt.cumprod()"
   ]
  },
  {
   "cell_type": "code",
   "execution_count": 22,
   "metadata": {},
   "outputs": [
    {
     "data": {
      "image/png": "[encoded data removed]",
      "text/plain": [
       "<Figure size 576x432 with 1 Axes>"
      ]
     },
     "metadata": {
      "needs_background": "light"
     },
     "output_type": "display_data"
    }
   ],
   "source": [
    "# Simulación del precio\n",
    "S_0 = closes_aapl.iloc[-1,0]\n",
    "S_T = S_0*(1+Ri_dt).cumprod()\n",
    "\n",
    "# Se muestran los precios simulados con los precios descargados\n",
    "pd.concat([closes_aapl,S_T]).plot(figsize=(8,6));\n",
    "plt.title('Simulación de precios usando rendimiento simple');"
   ]
  },
  {
   "cell_type": "markdown",
   "metadata": {},
   "source": [
    "- **Rendimiento logarítmico**"
   ]
  },
  {
   "cell_type": "code",
   "execution_count": 23,
   "metadata": {},
   "outputs": [
    {
     "data": {
      "text/plain": [
       "0.3000728568348775"
      ]
     },
     "execution_count": 23,
     "metadata": {},
     "output_type": "execute_result"
    },
    {
     "data": {
      "image/png": "[encoded data removed]",
      "text/plain": [
       "<Figure size 576x432 with 1 Axes>"
      ]
     },
     "metadata": {
      "needs_background": "light"
     },
     "output_type": "display_data"
    }
   ],
   "source": [
    "ri = calc_daily_ret(closes_aapl)\n",
    "# Usando la media y desviación estándar de los rendimientos logarítmicos\n",
    "mu_r = ri.mean()[0]\n",
    "sigma_r = ri.std()[0]\n",
    "\n",
    "# # Usando la equivalencia teórica\n",
    "# mu_r2 = mu_R - (sigma_R**2)/2\n",
    "\n",
    "sim_ret_ri = pd.DataFrame(mu_r*dt+Z*sigma_r*np.sqrt(dt), index=dates)\n",
    "\n",
    "# Simulación del precio\n",
    "S_0 = closes_aapl.iloc[-1,0]\n",
    "S_T2 = S_0*np.exp(sim_ret_ri.cumsum())\n",
    "\n",
    "# Se muestran los precios simulados con los precios descargados\n",
    "pd.concat([closes_aapl,S_T2]).plot(figsize=(8,6));\n",
    "plt.title('Simulación de precios usando rendimiento logarítmico');\n",
    "\n",
    "# from sklearn.metrics import mean_absolute_error\n",
    "e1 = np.abs(S_T-S_T2).mean().mean()\n",
    "e1"
   ]
  },
  {
   "cell_type": "code",
   "execution_count": 24,
   "metadata": {},
   "outputs": [
    {
     "name": "stdout",
     "output_type": "stream",
     "text": [
      "Las std usando rendimientos logarítmicos y simples son iguales\n"
     ]
    },
    {
     "data": {
      "text/plain": [
       "(0.01566970669697912, 0.01570346289067406)"
      ]
     },
     "execution_count": 24,
     "metadata": {},
     "output_type": "execute_result"
    }
   ],
   "source": [
    "print('Las std usando rendimientos logarítmicos y simples son iguales')\n",
    "sigma_R,sigma_r"
   ]
  },
  {
   "cell_type": "markdown",
   "metadata": {},
   "source": [
    "## 2. Valuación usando simulación: modelo normal para los rendimientos"
   ]
  },
  {
   "cell_type": "markdown",
   "metadata": {},
   "source": [
    "- Hallar media y desviación estándar muestral de los rendimientos logarítmicos"
   ]
  },
  {
   "cell_type": "code",
   "execution_count": 25,
   "metadata": {
    "scrolled": true
   },
   "outputs": [
    {
     "data": {
      "text/plain": [
       "(0.0012055748565267675, 0.01570346289067406)"
      ]
     },
     "execution_count": 25,
     "metadata": {},
     "output_type": "execute_result"
    }
   ],
   "source": [
    "mu = ret_aapl.mean()[0]\n",
    "sigma = ret_aapl.std()[0]\n",
    "mu, sigma"
   ]
  },
  {
   "cell_type": "markdown",
   "metadata": {},
   "source": [
    "No se toma la media sino la tasa libre de riesgo\n",
    "> Referencia: https://www.treasury.gov/resource-center/data-chart-center/interest-rates/Pages/TextView.aspx?data=yield"
   ]
  },
  {
   "cell_type": "code",
   "execution_count": 26,
   "metadata": {},
   "outputs": [],
   "source": [
    "# Tasa de bonos de 1 yr de fecha 11/01/19 -> 1.53%\n",
    "r = 0.0153/360 # Tasa diaria"
   ]
  },
  {
   "cell_type": "markdown",
   "metadata": {},
   "source": [
    "- Simularemos el tiempo de contrato (días=109) desde 2019-11-12 hasta 2020-02-29, 10 escenarios:\n",
    "> Calculador de fechas: https://es.calcuworld.com/calendarios/calculadora-de-tiempo-entre-dos-fechas/\n",
    "    \n",
    "    - Generar fechas"
   ]
  },
  {
   "cell_type": "code",
   "execution_count": 27,
   "metadata": {},
   "outputs": [
    {
     "data": {
      "text/plain": [
       "DatetimeIndex(['2019-11-27', '2019-11-28', '2019-11-29', '2019-11-30',\n",
       "               '2019-12-01', '2019-12-02', '2019-12-03', '2019-12-04',\n",
       "               '2019-12-05', '2019-12-06',\n",
       "               ...\n",
       "               '2020-03-11', '2020-03-12', '2020-03-13', '2020-03-14',\n",
       "               '2020-03-15', '2020-03-16', '2020-03-17', '2020-03-18',\n",
       "               '2020-03-19', '2020-03-20'],\n",
       "              dtype='datetime64[ns]', length=115, freq='D')"
      ]
     },
     "execution_count": 27,
     "metadata": {},
     "output_type": "execute_result"
    }
   ],
   "source": [
    "Hoy = date.today()\n",
    "fechaCierre = opcion_valuar.Expiry\n",
    "nscen = 10\n",
    "dates = pd.date_range(start=Hoy,end=fechaCierre)\n",
    "ndays = len(dates)\n",
    "dates"
   ]
  },
  {
   "cell_type": "markdown",
   "metadata": {},
   "source": [
    "- Generamos 10 escenarios de rendimientos simulados y guardamos en un dataframe"
   ]
  },
  {
   "cell_type": "code",
   "execution_count": 28,
   "metadata": {
    "scrolled": false
   },
   "outputs": [
    {
     "data": {
      "text/html": [
       "<div>\n",
       "<style scoped>\n",
       "    .dataframe tbody tr th:only-of-type {\n",
       "        vertical-align: middle;\n",
       "    }\n",
       "\n",
       "    .dataframe tbody tr th {\n",
       "        vertical-align: top;\n",
       "    }\n",
       "\n",
       "    .dataframe thead th {\n",
       "        text-align: right;\n",
       "    }\n",
       "</style>\n",
       "<table border=\"1\" class=\"dataframe\">\n",
       "  <thead>\n",
       "    <tr style=\"text-align: right;\">\n",
       "      <th></th>\n",
       "      <th>0</th>\n",
       "      <th>1</th>\n",
       "      <th>2</th>\n",
       "      <th>...</th>\n",
       "      <th>7</th>\n",
       "      <th>8</th>\n",
       "      <th>9</th>\n",
       "    </tr>\n",
       "  </thead>\n",
       "  <tbody>\n",
       "    <tr>\n",
       "      <th>2019-11-27</th>\n",
       "      <td>0.003</td>\n",
       "      <td>-0.009</td>\n",
       "      <td>-0.006</td>\n",
       "      <td>...</td>\n",
       "      <td>0.009</td>\n",
       "      <td>-0.008</td>\n",
       "      <td>-0.004</td>\n",
       "    </tr>\n",
       "    <tr>\n",
       "      <th>2019-11-28</th>\n",
       "      <td>-0.012</td>\n",
       "      <td>-0.013</td>\n",
       "      <td>0.024</td>\n",
       "      <td>...</td>\n",
       "      <td>-0.005</td>\n",
       "      <td>-0.020</td>\n",
       "      <td>-0.004</td>\n",
       "    </tr>\n",
       "    <tr>\n",
       "      <th>2019-11-29</th>\n",
       "      <td>-0.025</td>\n",
       "      <td>-0.025</td>\n",
       "      <td>0.060</td>\n",
       "      <td>...</td>\n",
       "      <td>0.045</td>\n",
       "      <td>-0.026</td>\n",
       "      <td>-0.017</td>\n",
       "    </tr>\n",
       "    <tr>\n",
       "      <th>2019-11-30</th>\n",
       "      <td>-0.045</td>\n",
       "      <td>-0.031</td>\n",
       "      <td>0.082</td>\n",
       "      <td>...</td>\n",
       "      <td>0.021</td>\n",
       "      <td>-0.006</td>\n",
       "      <td>-0.026</td>\n",
       "    </tr>\n",
       "    <tr>\n",
       "      <th>2019-12-01</th>\n",
       "      <td>-0.037</td>\n",
       "      <td>-0.021</td>\n",
       "      <td>0.062</td>\n",
       "      <td>...</td>\n",
       "      <td>0.028</td>\n",
       "      <td>-0.001</td>\n",
       "      <td>0.009</td>\n",
       "    </tr>\n",
       "    <tr>\n",
       "      <th>...</th>\n",
       "      <td>...</td>\n",
       "      <td>...</td>\n",
       "      <td>...</td>\n",
       "      <td>...</td>\n",
       "      <td>...</td>\n",
       "      <td>...</td>\n",
       "      <td>...</td>\n",
       "    </tr>\n",
       "    <tr>\n",
       "      <th>2020-03-16</th>\n",
       "      <td>0.068</td>\n",
       "      <td>-0.341</td>\n",
       "      <td>0.154</td>\n",
       "      <td>...</td>\n",
       "      <td>0.080</td>\n",
       "      <td>-0.309</td>\n",
       "      <td>-0.159</td>\n",
       "    </tr>\n",
       "    <tr>\n",
       "      <th>2020-03-17</th>\n",
       "      <td>0.069</td>\n",
       "      <td>-0.338</td>\n",
       "      <td>0.158</td>\n",
       "      <td>...</td>\n",
       "      <td>0.080</td>\n",
       "      <td>-0.333</td>\n",
       "      <td>-0.162</td>\n",
       "    </tr>\n",
       "    <tr>\n",
       "      <th>2020-03-18</th>\n",
       "      <td>0.072</td>\n",
       "      <td>-0.345</td>\n",
       "      <td>0.169</td>\n",
       "      <td>...</td>\n",
       "      <td>0.068</td>\n",
       "      <td>-0.333</td>\n",
       "      <td>-0.171</td>\n",
       "    </tr>\n",
       "    <tr>\n",
       "      <th>2020-03-19</th>\n",
       "      <td>0.067</td>\n",
       "      <td>-0.343</td>\n",
       "      <td>0.162</td>\n",
       "      <td>...</td>\n",
       "      <td>0.046</td>\n",
       "      <td>-0.337</td>\n",
       "      <td>-0.144</td>\n",
       "    </tr>\n",
       "    <tr>\n",
       "      <th>2020-03-20</th>\n",
       "      <td>0.057</td>\n",
       "      <td>-0.315</td>\n",
       "      <td>0.173</td>\n",
       "      <td>...</td>\n",
       "      <td>0.068</td>\n",
       "      <td>-0.350</td>\n",
       "      <td>-0.144</td>\n",
       "    </tr>\n",
       "  </tbody>\n",
       "</table>\n",
       "<p>115 rows × 10 columns</p>\n",
       "</div>"
      ],
      "text/plain": [
       "                0      1      2  ...      7      8      9\n",
       "2019-11-27  0.003 -0.009 -0.006  ...  0.009 -0.008 -0.004\n",
       "2019-11-28 -0.012 -0.013  0.024  ... -0.005 -0.020 -0.004\n",
       "2019-11-29 -0.025 -0.025  0.060  ...  0.045 -0.026 -0.017\n",
       "2019-11-30 -0.045 -0.031  0.082  ...  0.021 -0.006 -0.026\n",
       "2019-12-01 -0.037 -0.021  0.062  ...  0.028 -0.001  0.009\n",
       "...           ...    ...    ...  ...    ...    ...    ...\n",
       "2020-03-16  0.068 -0.341  0.154  ...  0.080 -0.309 -0.159\n",
       "2020-03-17  0.069 -0.338  0.158  ...  0.080 -0.333 -0.162\n",
       "2020-03-18  0.072 -0.345  0.169  ...  0.068 -0.333 -0.171\n",
       "2020-03-19  0.067 -0.343  0.162  ...  0.046 -0.337 -0.144\n",
       "2020-03-20  0.057 -0.315  0.173  ...  0.068 -0.350 -0.144\n",
       "\n",
       "[115 rows x 10 columns]"
      ]
     },
     "execution_count": 28,
     "metadata": {},
     "output_type": "execute_result"
    }
   ],
   "source": [
    "sim_ret = pd.DataFrame(sigma*np.random.randn(ndays,nscen)+r, index=dates)\n",
    "sim_ret.cumsum()\n",
    "# Las columnas son los escenarios y las filas son las días de contrato"
   ]
  },
  {
   "cell_type": "markdown",
   "metadata": {},
   "source": [
    "- Con los rendimientos simulados, calcular los escenarios de precios respectivos:"
   ]
  },
  {
   "cell_type": "code",
   "execution_count": 29,
   "metadata": {},
   "outputs": [
    {
     "data": {
      "text/html": [
       "<div>\n",
       "<style scoped>\n",
       "    .dataframe tbody tr th:only-of-type {\n",
       "        vertical-align: middle;\n",
       "    }\n",
       "\n",
       "    .dataframe tbody tr th {\n",
       "        vertical-align: top;\n",
       "    }\n",
       "\n",
       "    .dataframe thead th {\n",
       "        text-align: right;\n",
       "    }\n",
       "</style>\n",
       "<table border=\"1\" class=\"dataframe\">\n",
       "  <thead>\n",
       "    <tr style=\"text-align: right;\">\n",
       "      <th></th>\n",
       "      <th>0</th>\n",
       "      <th>1</th>\n",
       "      <th>2</th>\n",
       "      <th>...</th>\n",
       "      <th>7</th>\n",
       "      <th>8</th>\n",
       "      <th>9</th>\n",
       "    </tr>\n",
       "  </thead>\n",
       "  <tbody>\n",
       "    <tr>\n",
       "      <th>2019-11-27</th>\n",
       "      <td>268.532</td>\n",
       "      <td>265.516</td>\n",
       "      <td>266.194</td>\n",
       "      <td>...</td>\n",
       "      <td>270.230</td>\n",
       "      <td>265.760</td>\n",
       "      <td>266.774</td>\n",
       "    </tr>\n",
       "    <tr>\n",
       "      <th>2019-11-28</th>\n",
       "      <td>264.545</td>\n",
       "      <td>264.296</td>\n",
       "      <td>274.372</td>\n",
       "      <td>...</td>\n",
       "      <td>266.480</td>\n",
       "      <td>262.537</td>\n",
       "      <td>266.794</td>\n",
       "    </tr>\n",
       "    <tr>\n",
       "      <th>2019-11-29</th>\n",
       "      <td>261.270</td>\n",
       "      <td>261.168</td>\n",
       "      <td>284.463</td>\n",
       "      <td>...</td>\n",
       "      <td>280.061</td>\n",
       "      <td>261.005</td>\n",
       "      <td>263.391</td>\n",
       "    </tr>\n",
       "    <tr>\n",
       "      <th>2019-11-30</th>\n",
       "      <td>256.068</td>\n",
       "      <td>259.556</td>\n",
       "      <td>290.640</td>\n",
       "      <td>...</td>\n",
       "      <td>273.473</td>\n",
       "      <td>266.343</td>\n",
       "      <td>261.034</td>\n",
       "    </tr>\n",
       "    <tr>\n",
       "      <th>2019-12-01</th>\n",
       "      <td>258.062</td>\n",
       "      <td>262.153</td>\n",
       "      <td>284.850</td>\n",
       "      <td>...</td>\n",
       "      <td>275.575</td>\n",
       "      <td>267.543</td>\n",
       "      <td>270.341</td>\n",
       "    </tr>\n",
       "    <tr>\n",
       "      <th>...</th>\n",
       "      <td>...</td>\n",
       "      <td>...</td>\n",
       "      <td>...</td>\n",
       "      <td>...</td>\n",
       "      <td>...</td>\n",
       "      <td>...</td>\n",
       "      <td>...</td>\n",
       "    </tr>\n",
       "    <tr>\n",
       "      <th>2020-03-16</th>\n",
       "      <td>286.549</td>\n",
       "      <td>190.387</td>\n",
       "      <td>312.524</td>\n",
       "      <td>...</td>\n",
       "      <td>290.291</td>\n",
       "      <td>196.637</td>\n",
       "      <td>228.449</td>\n",
       "    </tr>\n",
       "    <tr>\n",
       "      <th>2020-03-17</th>\n",
       "      <td>286.994</td>\n",
       "      <td>191.016</td>\n",
       "      <td>313.633</td>\n",
       "      <td>...</td>\n",
       "      <td>290.119</td>\n",
       "      <td>191.974</td>\n",
       "      <td>227.669</td>\n",
       "    </tr>\n",
       "    <tr>\n",
       "      <th>2020-03-18</th>\n",
       "      <td>287.725</td>\n",
       "      <td>189.732</td>\n",
       "      <td>317.148</td>\n",
       "      <td>...</td>\n",
       "      <td>286.788</td>\n",
       "      <td>191.947</td>\n",
       "      <td>225.688</td>\n",
       "    </tr>\n",
       "    <tr>\n",
       "      <th>2020-03-19</th>\n",
       "      <td>286.399</td>\n",
       "      <td>189.995</td>\n",
       "      <td>315.015</td>\n",
       "      <td>...</td>\n",
       "      <td>280.450</td>\n",
       "      <td>191.272</td>\n",
       "      <td>231.814</td>\n",
       "    </tr>\n",
       "    <tr>\n",
       "      <th>2020-03-20</th>\n",
       "      <td>283.510</td>\n",
       "      <td>195.431</td>\n",
       "      <td>318.389</td>\n",
       "      <td>...</td>\n",
       "      <td>286.546</td>\n",
       "      <td>188.809</td>\n",
       "      <td>232.005</td>\n",
       "    </tr>\n",
       "  </tbody>\n",
       "</table>\n",
       "<p>115 rows × 10 columns</p>\n",
       "</div>"
      ],
      "text/plain": [
       "                  0        1        2  ...        7        8        9\n",
       "2019-11-27  268.532  265.516  266.194  ...  270.230  265.760  266.774\n",
       "2019-11-28  264.545  264.296  274.372  ...  266.480  262.537  266.794\n",
       "2019-11-29  261.270  261.168  284.463  ...  280.061  261.005  263.391\n",
       "2019-11-30  256.068  259.556  290.640  ...  273.473  266.343  261.034\n",
       "2019-12-01  258.062  262.153  284.850  ...  275.575  267.543  270.341\n",
       "...             ...      ...      ...  ...      ...      ...      ...\n",
       "2020-03-16  286.549  190.387  312.524  ...  290.291  196.637  228.449\n",
       "2020-03-17  286.994  191.016  313.633  ...  290.119  191.974  227.669\n",
       "2020-03-18  287.725  189.732  317.148  ...  286.788  191.947  225.688\n",
       "2020-03-19  286.399  189.995  315.015  ...  280.450  191.272  231.814\n",
       "2020-03-20  283.510  195.431  318.389  ...  286.546  188.809  232.005\n",
       "\n",
       "[115 rows x 10 columns]"
      ]
     },
     "execution_count": 29,
     "metadata": {},
     "output_type": "execute_result"
    }
   ],
   "source": [
    "S0 = closes_aapl.iloc[-1,0]  # Condición inicial del precio a simular\n",
    "sim_closes = S0*np.exp(sim_ret.cumsum())\n",
    "sim_closes"
   ]
  },
  {
   "cell_type": "markdown",
   "metadata": {},
   "source": [
    "- Graficar:"
   ]
  },
  {
   "cell_type": "code",
   "execution_count": 30,
   "metadata": {},
   "outputs": [],
   "source": [
    "# sim_closes.plot(figsize=(8,6));"
   ]
  },
  {
   "cell_type": "code",
   "execution_count": 31,
   "metadata": {
    "scrolled": false
   },
   "outputs": [
    {
     "data": {
      "image/png": "[encoded data removed]",
      "text/plain": [
       "<Figure size 576x432 with 1 Axes>"
      ]
     },
     "metadata": {
      "needs_background": "light"
     },
     "output_type": "display_data"
    }
   ],
   "source": [
    "# Se muestran los precios simulados con los precios descargados\n",
    "pd.concat([closes_aapl,sim_closes]).plot(figsize=(8,6));"
   ]
  },
  {
   "cell_type": "code",
   "execution_count": 32,
   "metadata": {
    "scrolled": false
   },
   "outputs": [
    {
     "data": {
      "text/plain": [
       "{'contractSymbol': 'AAPL200320C00250000',\n",
       " 'strike': 250.0,\n",
       " 'currency': 'USD',\n",
       " 'lastPrice': 25.65,\n",
       " 'change': 1.6499996,\n",
       " 'percentChange': 6.8749986,\n",
       " 'volume': 53,\n",
       " 'openInterest': 3911,\n",
       " 'bid': 25.75,\n",
       " 'ask': 25.9,\n",
       " 'contractSize': 'REGULAR',\n",
       " 'expiration': 1584662400,\n",
       " 'lastTradeDate': 1574888321,\n",
       " 'impliedVolatility': 0.2651745846557617,\n",
       " 'inTheMoney': True}"
      ]
     },
     "execution_count": 32,
     "metadata": {},
     "output_type": "execute_result"
    }
   ],
   "source": [
    "opcion_valuar['JSON']"
   ]
  },
  {
   "cell_type": "code",
   "execution_count": 33,
   "metadata": {},
   "outputs": [],
   "source": [
    "Hoy = date.today()\n",
    "K = opcion_valuar.Strike  # strike price\n",
    "fechaCierre = opcion_valuar.Expiry\n",
    "nscen = 100000\n",
    "dates = pd.date_range(start= Hoy, end=fechaCierre)\n",
    "ndays = len(dates)\n",
    "\n",
    "S0 = closes_aapl.iloc[-1,0]  # Condición inicial del precio a simular\n",
    "\n",
    "sim_ret = pd.DataFrame(sigma*np.random.randn(ndays,nscen)+r,index=dates)\n",
    "sim_closes = S0*np.exp(sim_ret.cumsum())\n",
    "#strike = pd.DataFrame({'Strike':K*np.ones(ndays)}, index=dates)\n",
    "#simul = pd.concat([closes_aapl.T,strike.T,sim_closes.T]).T\n",
    "#simul.plot(figsize=(8,6),legend=False);"
   ]
  },
  {
   "cell_type": "code",
   "execution_count": 34,
   "metadata": {
    "scrolled": false
   },
   "outputs": [
    {
     "data": {
      "image/png": "[encoded data removed]",
      "text/plain": [
       "<Figure size 432x288 with 1 Axes>"
      ]
     },
     "metadata": {
      "needs_background": "light"
     },
     "output_type": "display_data"
    }
   ],
   "source": [
    "strike = pd.DataFrame(K*np.ones([ndays,nscen]), index=dates)\n",
    "call = pd.DataFrame({'Prima':np.exp(-r*ndays) \\\n",
    "              *np.fmax(sim_closes-strike,np.zeros([ndays,nscen])).mean(axis=1)}, index=dates)\n",
    "call.plot();\n"
   ]
  },
  {
   "cell_type": "markdown",
   "metadata": {},
   "source": [
    "La valuación de la opción es:"
   ]
  },
  {
   "cell_type": "code",
   "execution_count": 35,
   "metadata": {},
   "outputs": [
    {
     "data": {
      "text/plain": [
       "Prima    31.075\n",
       "Name: 2020-03-20 00:00:00, dtype: float64"
      ]
     },
     "execution_count": 35,
     "metadata": {},
     "output_type": "execute_result"
    }
   ],
   "source": [
    "call.iloc[-1]"
   ]
  },
  {
   "cell_type": "markdown",
   "metadata": {},
   "source": [
    "Intervalo de confianza del 95%"
   ]
  },
  {
   "cell_type": "code",
   "execution_count": 36,
   "metadata": {
    "scrolled": true
   },
   "outputs": [
    {
     "name": "stdout",
     "output_type": "stream",
     "text": [
      "(30.788340926160053, 31.360665929960234)\n",
      "(30.788340926160053, 31.360665929960234)\n"
     ]
    }
   ],
   "source": [
    "confianza = 0.95\n",
    "sigma_est = sim_closes.iloc[-1].sem()\n",
    "mean_est = call.iloc[-1].Prima\n",
    "i1 = st.t.interval(confianza,nscen-1, loc=mean_est, scale=sigma_est)\n",
    "i2 = st.norm.interval(confianza, loc=mean_est, scale=sigma_est)\n",
    "print(i1)\n",
    "print(i1)\n"
   ]
  },
  {
   "cell_type": "markdown",
   "metadata": {},
   "source": [
    "Valor de la opción descargada"
   ]
  },
  {
   "cell_type": "code",
   "execution_count": 37,
   "metadata": {},
   "outputs": [
    {
     "data": {
      "text/plain": [
       "25.65"
      ]
     },
     "execution_count": 37,
     "metadata": {},
     "output_type": "execute_result"
    }
   ],
   "source": [
    "opcion_valuar.Last"
   ]
  },
  {
   "cell_type": "markdown",
   "metadata": {},
   "source": [
    "## Precios simulados usando técnicas de reducción de varianza"
   ]
  },
  {
   "cell_type": "code",
   "execution_count": 40,
   "metadata": {},
   "outputs": [],
   "source": [
    "# Método muestreo estratificado (B estratos)\n",
    "\n",
    "def normalEstratificada(B,nscen):\n",
    "    \"\"\" \n",
    "    Función que regresa variables aleatorioas normales generadas \n",
    "    usando el método de reducción de varianza estratificado\n",
    "    \n",
    "    Parámetros:\n",
    "    ----------\n",
    "    B     : cantidad de días a simular dependiendo de la fecha de \n",
    "            cierre del contrato a consideración \n",
    "    nscen : número de escenarios a simular\n",
    "    \"\"\"\n",
    "    def vectorNormalEstra(B):\n",
    "        U2 = np.random.rand(B)\n",
    "        i = np.arange(0,B)\n",
    "        v = (U2+i)/B\n",
    "        m_estratificado = st.norm.ppf(v)\n",
    "        # Desordena mi vector m_estratificado ya que se encuentra ordenado\n",
    "        np.random.shuffle(m_estratificado)\n",
    "        return m_estratificado.reshape(B,1)\n",
    "    m1 = np.concatenate([vectorNormalEstra(B) for i in range(nscen)],axis=1)\n",
    "    return m1\n"
   ]
  },
  {
   "cell_type": "code",
   "execution_count": 41,
   "metadata": {},
   "outputs": [
    {
     "data": {
      "image/png": "[encoded data removed]",
      "text/plain": [
       "<Figure size 432x288 with 2 Axes>"
      ]
     },
     "metadata": {
      "needs_background": "light"
     },
     "output_type": "display_data"
    }
   ],
   "source": [
    "# Ilustración del método cuando se usa métodos de reducción de varianza\n",
    "# y el método convencional para generar números aleatorios normales\n",
    "B = 1000\n",
    "nscen = 1\n",
    "\n",
    "Z1 = normalEstratificada(B,nscen)\n",
    "z2 = np.random.randn(B,nscen)\n",
    "plt.subplot(2,1,1)\n",
    "plt.hist(z2,bins=30,label='Método numpy')\n",
    "plt.legend()\n",
    "plt.subplot(2,1,2)\n",
    "plt.hist(Z1,bins=30,label='Método estratificado')\n",
    "plt.legend()\n",
    "plt.show()\n"
   ]
  },
  {
   "cell_type": "code",
   "execution_count": 49,
   "metadata": {
    "scrolled": true
   },
   "outputs": [
    {
     "data": {
      "image/png": "[encoded data removed]",
      "text/plain": [
       "<Figure size 432x288 with 1 Axes>"
      ]
     },
     "metadata": {
      "needs_background": "light"
     },
     "output_type": "display_data"
    }
   ],
   "source": [
    "# Usando muestreo estratificado----> #estratros = nscen\n",
    "np.random.seed(5542)\n",
    "B = ndays\n",
    "nscen = 100\n",
    "\n",
    "Z = normalEstratificada(ndays,nscen)\n",
    "dates = pd.date_range(start= Hoy, end=fechaCierre)\n",
    "\n",
    "sim_ret2 = pd.DataFrame(sigma*Z+r,index=dates)\n",
    "S0 = closes_aapl.iloc[-1,0]  # Condición inicial del precio a simular\n",
    "sim_closes2 = S0*np.exp(sim_ret2.cumsum())\n",
    "\n",
    "# Función de pago\n",
    "strike = pd.DataFrame(K*np.ones([ndays,nscen]), index=dates)\n",
    "call = pd.DataFrame({'Prima':np.exp(-r*ndays) \\\n",
    "              *np.fmax(sim_closes2-strike,np.zeros([ndays,nscen])).mean(axis=1)}, index=dates)\n",
    "call.plot();"
   ]
  },
  {
   "cell_type": "code",
   "execution_count": 55,
   "metadata": {},
   "outputs": [],
   "source": [
    "# plt.plot(Z);"
   ]
  },
  {
   "cell_type": "markdown",
   "metadata": {},
   "source": [
    "La valuación de la opción es:"
   ]
  },
  {
   "cell_type": "code",
   "execution_count": 50,
   "metadata": {},
   "outputs": [
    {
     "data": {
      "text/plain": [
       "Prima    19.556\n",
       "Name: 2020-03-20 00:00:00, dtype: float64"
      ]
     },
     "execution_count": 50,
     "metadata": {},
     "output_type": "execute_result"
    }
   ],
   "source": [
    "call.iloc[-1]"
   ]
  },
  {
   "cell_type": "markdown",
   "metadata": {},
   "source": [
    "Intervalo de confianza del 95%"
   ]
  },
  {
   "cell_type": "code",
   "execution_count": 51,
   "metadata": {
    "scrolled": true
   },
   "outputs": [
    {
     "name": "stdout",
     "output_type": "stream",
     "text": [
      "(19.159104896236435, 19.953462933075542)\n",
      "(19.163959591992885, 19.948608237319092)\n",
      "Valor de la opción 25.65\n"
     ]
    }
   ],
   "source": [
    "confianza = 0.95\n",
    "sigma_est = sim_closes2.iloc[-1].sem()\n",
    "mean_est = call.iloc[-1].Prima\n",
    "i1 = st.t.interval(confianza,nscen-1, loc=mean_est, scale=sigma_est)\n",
    "i2 = st.norm.interval(confianza, loc=mean_est, scale=sigma_est)\n",
    "print(i1)\n",
    "print(i2)\n",
    "print('Valor de la opción',opcion_valuar.Last)"
   ]
  },
  {
   "cell_type": "markdown",
   "metadata": {},
   "source": [
    "### Análisis de la distribución de los rendimientos"
   ]
  },
  {
   "cell_type": "markdown",
   "metadata": {},
   "source": [
    "### Ajustando norm"
   ]
  },
  {
   "cell_type": "code",
   "execution_count": null,
   "metadata": {},
   "outputs": [],
   "source": [
    "ren = calc_daily_ret(closes_aapl) # rendimientos \n",
    "y,x,des = plt.hist(ren['AAPL'],bins=50,density=True,label='Histograma rendimientos')\n",
    "\n",
    "mu_fit,sd_fit = st.norm.fit(ren) # Se ajustan los parámetros de una normal\n",
    "# Valores máximo y mínimo de los rendiemientos a generar\n",
    "ren_max = max(x);ren_min = min(x)\n",
    "# Vector de rendimientos generados\n",
    "ren_gen = np.arange(ren_min,ren_max,0.001)\n",
    "# Generación de la normal ajustado con los parámetros encontrados\n",
    "curve_fit = st.norm.pdf(ren_gen,loc=mu_fit,scale=sd_fit)\n",
    "plt.plot(ren_gen,curve_fit,label='Distribución ajustada')\n",
    "plt.legend()\n",
    "plt.show()\n"
   ]
  },
  {
   "cell_type": "markdown",
   "metadata": {},
   "source": [
    "### Ajustando t"
   ]
  },
  {
   "cell_type": "code",
   "execution_count": null,
   "metadata": {},
   "outputs": [],
   "source": [
    "ren = calc_daily_ret(closes_aapl) # rendimientos \n",
    "y,x,des = plt.hist(ren['AAPL'],bins=50,density=True,label='Histograma rendimientos')\n",
    "\n",
    "dof,mu_fit,sd_fit = st.t.fit(ren) # Se ajustan los parámetros de una normal\n",
    "# Valores máximo y mínimo de los rendiemientos a generar\n",
    "# ren_max = max(x);ren_min = min(x)\n",
    "# Vector de rendimientos generados\n",
    "ren_gen = np.arange(ren_min,ren_max,0.001)\n",
    "# Generación de la normal ajustado con los parámetros encontrados\n",
    "curve_fit = st.t.pdf(ren_gen,df=dof,loc=mu_fit,scale=sd_fit)\n",
    "plt.plot(ren_gen,curve_fit,label='Distribución ajustada')\n",
    "plt.legend()\n",
    "plt.show()"
   ]
  },
  {
   "cell_type": "code",
   "execution_count": null,
   "metadata": {},
   "outputs": [],
   "source": [
    "st.probplot(ren['AAPL'],sparams= dof, dist='t', plot=plt);"
   ]
  },
  {
   "cell_type": "markdown",
   "metadata": {},
   "source": [
    "## 3. Valuación usando simulación: uso del histograma de rendimientos\n",
    "\n",
    "Todo el análisis anterior se mantiene. Solo cambia la forma de generar los números aleatorios para la simulación montecarlo.\n",
    "\n",
    "Ahora, generemos un histograma de los rendimientos diarios para generar valores aleatorios de los rendimientos simulados."
   ]
  },
  {
   "cell_type": "markdown",
   "metadata": {},
   "source": [
    "- Primero, cantidad de días y número de escenarios de simulación"
   ]
  },
  {
   "cell_type": "code",
   "execution_count": null,
   "metadata": {},
   "outputs": [],
   "source": [
    "ndays = 109 \n",
    "nscen = 10"
   ]
  },
  {
   "cell_type": "markdown",
   "metadata": {},
   "source": [
    "- Del histograma anterior, ya conocemos las probabilidades de ocurrencia, lo que se llamó como variable `y`"
   ]
  },
  {
   "cell_type": "code",
   "execution_count": null,
   "metadata": {},
   "outputs": [],
   "source": [
    "prob = y/np.sum(y)\n",
    "values = x[1:]"
   ]
  },
  {
   "cell_type": "markdown",
   "metadata": {},
   "source": [
    "- Con esto, generamos los números aleatorios correspondientes a los rendimientos (tantos como días por número de escenarios)."
   ]
  },
  {
   "cell_type": "code",
   "execution_count": null,
   "metadata": {},
   "outputs": [],
   "source": [
    "ret = np.random.choice(values, ndays*nscen, p=prob)\n",
    "dates = pd.date_range(start=Hoy,periods=ndays)\n",
    "sim_ret_hist = pd.DataFrame(ret.reshape((ndays,nscen)),index=dates)\n",
    "sim_ret_hist"
   ]
  },
  {
   "cell_type": "code",
   "execution_count": null,
   "metadata": {
    "scrolled": false
   },
   "outputs": [],
   "source": [
    "sim_closes_hist = (closes_aapl.iloc[-1,0])*np.exp(sim_ret_hist.cumsum())\n",
    "sim_closes_hist"
   ]
  },
  {
   "cell_type": "code",
   "execution_count": null,
   "metadata": {},
   "outputs": [],
   "source": [
    "sim_closes_hist.plot(figsize=(8,6),legend=False);"
   ]
  },
  {
   "cell_type": "code",
   "execution_count": null,
   "metadata": {},
   "outputs": [],
   "source": [
    "pd.concat([closes_aapl,sim_closes_hist]).plot(figsize=(8,6),legend=False);\n",
    "plt.title('Simulación usando el histograma de los rendimientos')"
   ]
  },
  {
   "cell_type": "code",
   "execution_count": null,
   "metadata": {},
   "outputs": [],
   "source": [
    "K=240\n",
    "ndays = 109\n",
    "nscen = 10000\n",
    "freq, values = np.histogram(ret_aapl+r-mu, bins=2000)\n",
    "prob = freq/np.sum(freq)\n",
    "ret=np.random.choice(values[1:],ndays*nscen,p=prob)\n",
    "dates=pd.date_range('2018-10-29',periods=ndays)\n",
    "sim_ret_hist = pd.DataFrame(ret.reshape((ndays,nscen)),index=dates)\n",
    "sim_closes_hist = (closes_aapl.iloc[-1,0])*np.exp(sim_ret_hist.cumsum())"
   ]
  },
  {
   "cell_type": "code",
   "execution_count": null,
   "metadata": {},
   "outputs": [],
   "source": [
    "strike = pd.DataFrame(K*np.ones(ndays*nscen).reshape((ndays,nscen)), index=dates)\n",
    "call_hist = pd.DataFrame({'Prima':np.exp(-r*ndays)*np.fmax(sim_closes_hist-strike,np.zeros(ndays*nscen).reshape((ndays,nscen))).T.mean()}, index=dates)\n",
    "call_hist.plot();"
   ]
  },
  {
   "cell_type": "code",
   "execution_count": null,
   "metadata": {
    "scrolled": true
   },
   "outputs": [],
   "source": [
    "call_hist.iloc[-1]"
   ]
  },
  {
   "cell_type": "code",
   "execution_count": null,
   "metadata": {},
   "outputs": [],
   "source": [
    "opcion_valuar['JSON']"
   ]
  },
  {
   "cell_type": "markdown",
   "metadata": {},
   "source": [
    "Intervalo de confianza del 95%"
   ]
  },
  {
   "cell_type": "code",
   "execution_count": null,
   "metadata": {
    "scrolled": true
   },
   "outputs": [],
   "source": [
    "confianza = 0.95\n",
    "sigma_est = sim_closes_hist.iloc[-1].sem()\n",
    "mean_est = call_hist.iloc[-1].Prima\n",
    "i1 = st.t.interval(confianza,nscen-1, loc=mean_est, scale=sigma_est)\n",
    "i2 = st.norm.interval(confianza, loc=mean_est, scale=sigma_est)\n",
    "print(i1)\n",
    "print(i1)\n"
   ]
  },
  {
   "cell_type": "markdown",
   "metadata": {},
   "source": [
    "# <font color = 'red'> Tarea: </font>\n",
    "\n",
    "Replicar el procedimiento anterior para valoración de opciones 'call', pero en este caso para opciones tipo 'put'."
   ]
  },
  {
   "cell_type": "markdown",
   "metadata": {},
   "source": [
    "<script>\n",
    "  $(document).ready(function(){\n",
    "    $('div.prompt').hide();\n",
    "    $('div.back-to-top').hide();\n",
    "    $('nav#menubar').hide();\n",
    "    $('.breadcrumb').hide();\n",
    "    $('.hidden-print').hide();\n",
    "  });\n",
    "</script>\n",
    "\n",
    "<footer id=\"attribution\" style=\"float:right; color:#808080; background:#fff;\">\n",
    "Created with Jupyter by Esteban Jiménez Rodríguez and modify by Oscar Jaramillo Z.\n",
    "</footer>"
   ]
  }
 ],
 "metadata": {
  "kernelspec": {
   "display_name": "Python 3",
   "language": "python",
   "name": "python3"
  },
  "language_info": {
   "codemirror_mode": {
    "name": "ipython",
    "version": 3
   },
   "file_extension": ".py",
   "mimetype": "text/x-python",
   "name": "python",
   "nbconvert_exporter": "python",
   "pygments_lexer": "ipython3",
   "version": "3.6.5"
  }
 },
 "nbformat": 4,
 "nbformat_minor": 2
}
